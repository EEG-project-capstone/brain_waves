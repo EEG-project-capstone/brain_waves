{
 "cells": [
  {
   "cell_type": "markdown",
   "metadata": {},
   "source": [
    "## 0. Import MNE & raw data"
   ]
  },
  {
   "cell_type": "code",
   "execution_count": 2,
   "metadata": {},
   "outputs": [],
   "source": [
    "import mne\n",
    "import pandas as pd\n",
    "import os\n",
    "mne.set_log_level('error')  # reduce extraneous MNE output"
   ]
  },
  {
   "cell_type": "markdown",
   "metadata": {},
   "source": [
    "# 1. Filtering Raw Data"
   ]
  },
  {
   "cell_type": "markdown",
   "metadata": {},
   "source": [
    "## a. Define directories"
   ]
  },
  {
   "cell_type": "code",
   "execution_count": 4,
   "metadata": {},
   "outputs": [],
   "source": [
    "file_name = 'eeg1'\n",
    "eeg_file = file_name + '.EDF'\n",
    "\n",
    "# Data directory\n",
    "data_dir = '/Users/khanhha/Desktop/EEG_data/data'\n",
    "raw_dir = '/Users/khanhha/Desktop/EEG_data/raw'\n",
    "filt_dir = '/Users/khanhha/Desktop/EEG_data/raw_filt'\n"
   ]
  },
  {
   "cell_type": "markdown",
   "metadata": {},
   "source": [
    "## b. Filter & Save"
   ]
  },
  {
   "cell_type": "code",
   "execution_count": 4,
   "metadata": {},
   "outputs": [],
   "source": [
    "# Load in the raw data\n",
    "file_path = os.path.join(data_dir, eeg_file)\n",
    "raw = mne.io.read_raw_edf(file_path, preload=True)\n",
    "\n",
    "# # Set electrode locations\n",
    "# montage = 'easycap-M1' # Electrode position file\n",
    "# raw.set_montage(montage)\n",
    "\n",
    "# Filter settings\n",
    "low_cut = 1\n",
    "hi_cut  = 30\n",
    "\n",
    "# Filtering data\n",
    "raw_filt = raw.copy().filter(low_cut, hi_cut)\n",
    "\n",
    "# Saving the filtered and unfiltered as .fif files so we dont need to open the edf again\n",
    "# Define file paths\n",
    "raw_path = raw_dir + '/' + file_name + '-raw.fif'\n",
    "filt_path = filt_dir + '/' + file_name + '-filt-raw.fif'\n",
    "# Save the files as fif\n",
    "raw.save(raw_path, overwrite=True)\n",
    "raw_filt.save(filt_path, overwrite=True)\n"
   ]
  },
  {
   "cell_type": "markdown",
   "metadata": {},
   "source": [
    "# 2. Artifacts Removal with Independent Components Analysis"
   ]
  },
  {
   "cell_type": "code",
   "execution_count": 8,
   "metadata": {},
   "outputs": [],
   "source": [
    "raw = mne.io.read_raw_fif(raw_dir + '/' + file_name + '-raw.fif', preload=True)"
   ]
  },
  {
   "cell_type": "code",
   "execution_count": 5,
   "metadata": {},
   "outputs": [],
   "source": [
    "raw_ica = mne.io.read_raw_fif(filt_dir + '/' + file_name + '-filt-raw.fif', preload=True)"
   ]
  },
  {
   "cell_type": "markdown",
   "metadata": {},
   "source": [
    "Set Montage"
   ]
  },
  {
   "cell_type": "code",
   "execution_count": 14,
   "metadata": {},
   "outputs": [
    {
     "data": {
      "text/plain": [
       "['C3',\n",
       " 'C4',\n",
       " 'O1',\n",
       " 'O2',\n",
       " 'A1',\n",
       " 'A2',\n",
       " 'Cz',\n",
       " 'F3',\n",
       " 'F4',\n",
       " 'F7',\n",
       " 'F8',\n",
       " 'Fz',\n",
       " 'Fp1',\n",
       " 'Fp2',\n",
       " 'Fpz',\n",
       " 'P3',\n",
       " 'P4',\n",
       " 'Pz',\n",
       " 'T3',\n",
       " 'T4',\n",
       " 'T5',\n",
       " 'T6',\n",
       " 'ECGL',\n",
       " 'ECGR']"
      ]
     },
     "execution_count": 14,
     "metadata": {},
     "output_type": "execute_result"
    }
   ],
   "source": [
    "info = raw_ica.info\n",
    "info[\"ch_names\"]"
   ]
  },
  {
   "cell_type": "code",
   "execution_count": 32,
   "metadata": {},
   "outputs": [
    {
     "name": "stdout",
     "output_type": "stream",
     "text": [
      "[{'scanno': 1, 'logno': 1, 'kind': 2 (FIFFV_EEG_CH), 'range': 1.0, 'cal': 1.0, 'coil_type': 1 (FIFFV_COIL_EEG), 'loc': array([nan, nan, nan, nan, nan, nan, nan, nan, nan, nan, nan, nan]), 'unit': 107 (FIFF_UNIT_V), 'unit_mul': 0 (FIFF_UNITM_NONE), 'ch_name': 'C3', 'coord_frame': 4 (FIFFV_COORD_HEAD)}, {'scanno': 2, 'logno': 2, 'kind': 2 (FIFFV_EEG_CH), 'range': 1.0, 'cal': 1.0, 'coil_type': 1 (FIFFV_COIL_EEG), 'loc': array([nan, nan, nan, nan, nan, nan, nan, nan, nan, nan, nan, nan]), 'unit': 107 (FIFF_UNIT_V), 'unit_mul': 0 (FIFF_UNITM_NONE), 'ch_name': 'C4', 'coord_frame': 4 (FIFFV_COORD_HEAD)}, {'scanno': 3, 'logno': 3, 'kind': 2 (FIFFV_EEG_CH), 'range': 1.0, 'cal': 1.0, 'coil_type': 1 (FIFFV_COIL_EEG), 'loc': array([nan, nan, nan, nan, nan, nan, nan, nan, nan, nan, nan, nan]), 'unit': 107 (FIFF_UNIT_V), 'unit_mul': 0 (FIFF_UNITM_NONE), 'ch_name': 'O1', 'coord_frame': 4 (FIFFV_COORD_HEAD)}, {'scanno': 4, 'logno': 4, 'kind': 2 (FIFFV_EEG_CH), 'range': 1.0, 'cal': 1.0, 'coil_type': 1 (FIFFV_COIL_EEG), 'loc': array([nan, nan, nan, nan, nan, nan, nan, nan, nan, nan, nan, nan]), 'unit': 107 (FIFF_UNIT_V), 'unit_mul': 0 (FIFF_UNITM_NONE), 'ch_name': 'O2', 'coord_frame': 4 (FIFFV_COORD_HEAD)}, {'scanno': 5, 'logno': 5, 'kind': 2 (FIFFV_EEG_CH), 'range': 1.0, 'cal': 1.0, 'coil_type': 1 (FIFFV_COIL_EEG), 'loc': array([nan, nan, nan, nan, nan, nan, nan, nan, nan, nan, nan, nan]), 'unit': 107 (FIFF_UNIT_V), 'unit_mul': 0 (FIFF_UNITM_NONE), 'ch_name': 'A1', 'coord_frame': 4 (FIFFV_COORD_HEAD)}, {'scanno': 6, 'logno': 6, 'kind': 2 (FIFFV_EEG_CH), 'range': 1.0, 'cal': 1.0, 'coil_type': 1 (FIFFV_COIL_EEG), 'loc': array([nan, nan, nan, nan, nan, nan, nan, nan, nan, nan, nan, nan]), 'unit': 107 (FIFF_UNIT_V), 'unit_mul': 0 (FIFF_UNITM_NONE), 'ch_name': 'A2', 'coord_frame': 4 (FIFFV_COORD_HEAD)}, {'scanno': 7, 'logno': 7, 'kind': 2 (FIFFV_EEG_CH), 'range': 1.0, 'cal': 1.0, 'coil_type': 1 (FIFFV_COIL_EEG), 'loc': array([nan, nan, nan, nan, nan, nan, nan, nan, nan, nan, nan, nan]), 'unit': 107 (FIFF_UNIT_V), 'unit_mul': 0 (FIFF_UNITM_NONE), 'ch_name': 'Cz', 'coord_frame': 4 (FIFFV_COORD_HEAD)}, {'scanno': 8, 'logno': 8, 'kind': 2 (FIFFV_EEG_CH), 'range': 1.0, 'cal': 1.0, 'coil_type': 1 (FIFFV_COIL_EEG), 'loc': array([nan, nan, nan, nan, nan, nan, nan, nan, nan, nan, nan, nan]), 'unit': 107 (FIFF_UNIT_V), 'unit_mul': 0 (FIFF_UNITM_NONE), 'ch_name': 'F3', 'coord_frame': 4 (FIFFV_COORD_HEAD)}, {'scanno': 9, 'logno': 9, 'kind': 2 (FIFFV_EEG_CH), 'range': 1.0, 'cal': 1.0, 'coil_type': 1 (FIFFV_COIL_EEG), 'loc': array([nan, nan, nan, nan, nan, nan, nan, nan, nan, nan, nan, nan]), 'unit': 107 (FIFF_UNIT_V), 'unit_mul': 0 (FIFF_UNITM_NONE), 'ch_name': 'F4', 'coord_frame': 4 (FIFFV_COORD_HEAD)}, {'scanno': 10, 'logno': 10, 'kind': 2 (FIFFV_EEG_CH), 'range': 1.0, 'cal': 1.0, 'coil_type': 1 (FIFFV_COIL_EEG), 'loc': array([nan, nan, nan, nan, nan, nan, nan, nan, nan, nan, nan, nan]), 'unit': 107 (FIFF_UNIT_V), 'unit_mul': 0 (FIFF_UNITM_NONE), 'ch_name': 'F7', 'coord_frame': 4 (FIFFV_COORD_HEAD)}, {'scanno': 11, 'logno': 11, 'kind': 2 (FIFFV_EEG_CH), 'range': 1.0, 'cal': 1.0, 'coil_type': 1 (FIFFV_COIL_EEG), 'loc': array([nan, nan, nan, nan, nan, nan, nan, nan, nan, nan, nan, nan]), 'unit': 107 (FIFF_UNIT_V), 'unit_mul': 0 (FIFF_UNITM_NONE), 'ch_name': 'F8', 'coord_frame': 4 (FIFFV_COORD_HEAD)}, {'scanno': 12, 'logno': 12, 'kind': 2 (FIFFV_EEG_CH), 'range': 1.0, 'cal': 1.0, 'coil_type': 1 (FIFFV_COIL_EEG), 'loc': array([nan, nan, nan, nan, nan, nan, nan, nan, nan, nan, nan, nan]), 'unit': 107 (FIFF_UNIT_V), 'unit_mul': 0 (FIFF_UNITM_NONE), 'ch_name': 'Fz', 'coord_frame': 4 (FIFFV_COORD_HEAD)}, {'scanno': 13, 'logno': 13, 'kind': 2 (FIFFV_EEG_CH), 'range': 1.0, 'cal': 1.0, 'coil_type': 1 (FIFFV_COIL_EEG), 'loc': array([nan, nan, nan, nan, nan, nan, nan, nan, nan, nan, nan, nan]), 'unit': 107 (FIFF_UNIT_V), 'unit_mul': 0 (FIFF_UNITM_NONE), 'ch_name': 'Fp1', 'coord_frame': 4 (FIFFV_COORD_HEAD)}, {'scanno': 14, 'logno': 14, 'kind': 2 (FIFFV_EEG_CH), 'range': 1.0, 'cal': 1.0, 'coil_type': 1 (FIFFV_COIL_EEG), 'loc': array([nan, nan, nan, nan, nan, nan, nan, nan, nan, nan, nan, nan]), 'unit': 107 (FIFF_UNIT_V), 'unit_mul': 0 (FIFF_UNITM_NONE), 'ch_name': 'Fp2', 'coord_frame': 4 (FIFFV_COORD_HEAD)}, {'scanno': 15, 'logno': 15, 'kind': 2 (FIFFV_EEG_CH), 'range': 1.0, 'cal': 1.0, 'coil_type': 1 (FIFFV_COIL_EEG), 'loc': array([nan, nan, nan, nan, nan, nan, nan, nan, nan, nan, nan, nan]), 'unit': 107 (FIFF_UNIT_V), 'unit_mul': 0 (FIFF_UNITM_NONE), 'ch_name': 'Fpz', 'coord_frame': 4 (FIFFV_COORD_HEAD)}, {'scanno': 16, 'logno': 16, 'kind': 2 (FIFFV_EEG_CH), 'range': 1.0, 'cal': 1.0, 'coil_type': 1 (FIFFV_COIL_EEG), 'loc': array([nan, nan, nan, nan, nan, nan, nan, nan, nan, nan, nan, nan]), 'unit': 107 (FIFF_UNIT_V), 'unit_mul': 0 (FIFF_UNITM_NONE), 'ch_name': 'P3', 'coord_frame': 4 (FIFFV_COORD_HEAD)}, {'scanno': 17, 'logno': 17, 'kind': 2 (FIFFV_EEG_CH), 'range': 1.0, 'cal': 1.0, 'coil_type': 1 (FIFFV_COIL_EEG), 'loc': array([nan, nan, nan, nan, nan, nan, nan, nan, nan, nan, nan, nan]), 'unit': 107 (FIFF_UNIT_V), 'unit_mul': 0 (FIFF_UNITM_NONE), 'ch_name': 'P4', 'coord_frame': 4 (FIFFV_COORD_HEAD)}, {'scanno': 18, 'logno': 18, 'kind': 2 (FIFFV_EEG_CH), 'range': 1.0, 'cal': 1.0, 'coil_type': 1 (FIFFV_COIL_EEG), 'loc': array([nan, nan, nan, nan, nan, nan, nan, nan, nan, nan, nan, nan]), 'unit': 107 (FIFF_UNIT_V), 'unit_mul': 0 (FIFF_UNITM_NONE), 'ch_name': 'Pz', 'coord_frame': 4 (FIFFV_COORD_HEAD)}, {'scanno': 19, 'logno': 19, 'kind': 2 (FIFFV_EEG_CH), 'range': 1.0, 'cal': 1.0, 'coil_type': 1 (FIFFV_COIL_EEG), 'loc': array([nan, nan, nan, nan, nan, nan, nan, nan, nan, nan, nan, nan]), 'unit': 107 (FIFF_UNIT_V), 'unit_mul': 0 (FIFF_UNITM_NONE), 'ch_name': 'T3', 'coord_frame': 4 (FIFFV_COORD_HEAD)}, {'scanno': 20, 'logno': 20, 'kind': 2 (FIFFV_EEG_CH), 'range': 1.0, 'cal': 1.0, 'coil_type': 1 (FIFFV_COIL_EEG), 'loc': array([nan, nan, nan, nan, nan, nan, nan, nan, nan, nan, nan, nan]), 'unit': 107 (FIFF_UNIT_V), 'unit_mul': 0 (FIFF_UNITM_NONE), 'ch_name': 'T4', 'coord_frame': 4 (FIFFV_COORD_HEAD)}, {'scanno': 21, 'logno': 21, 'kind': 2 (FIFFV_EEG_CH), 'range': 1.0, 'cal': 1.0, 'coil_type': 1 (FIFFV_COIL_EEG), 'loc': array([nan, nan, nan, nan, nan, nan, nan, nan, nan, nan, nan, nan]), 'unit': 107 (FIFF_UNIT_V), 'unit_mul': 0 (FIFF_UNITM_NONE), 'ch_name': 'T5', 'coord_frame': 4 (FIFFV_COORD_HEAD)}, {'scanno': 22, 'logno': 22, 'kind': 2 (FIFFV_EEG_CH), 'range': 1.0, 'cal': 1.0, 'coil_type': 1 (FIFFV_COIL_EEG), 'loc': array([nan, nan, nan, nan, nan, nan, nan, nan, nan, nan, nan, nan]), 'unit': 107 (FIFF_UNIT_V), 'unit_mul': 0 (FIFF_UNITM_NONE), 'ch_name': 'T6', 'coord_frame': 4 (FIFFV_COORD_HEAD)}, {'scanno': 23, 'logno': 23, 'kind': 2 (FIFFV_EEG_CH), 'range': 1.0, 'cal': 1.0, 'coil_type': 1 (FIFFV_COIL_EEG), 'loc': array([nan, nan, nan, nan, nan, nan, nan, nan, nan, nan, nan, nan]), 'unit': 107 (FIFF_UNIT_V), 'unit_mul': 0 (FIFF_UNITM_NONE), 'ch_name': 'ECGL', 'coord_frame': 4 (FIFFV_COORD_HEAD)}, {'scanno': 24, 'logno': 24, 'kind': 2 (FIFFV_EEG_CH), 'range': 1.0, 'cal': 1.0, 'coil_type': 1 (FIFFV_COIL_EEG), 'loc': array([nan, nan, nan, nan, nan, nan, nan, nan, nan, nan, nan, nan]), 'unit': 107 (FIFF_UNIT_V), 'unit_mul': 0 (FIFF_UNITM_NONE), 'ch_name': 'ECGR', 'coord_frame': 4 (FIFFV_COORD_HEAD)}]\n",
      "None\n"
     ]
    }
   ],
   "source": [
    "print(raw_ica.info['chs'])\n",
    "print(raw_ica.info['dig'])\n",
    "# montage = mne.channels.make_standard_montage('standard_1005')\n",
    "# raw_ica.set_montage(montage)\n"
   ]
  },
  {
   "cell_type": "code",
   "execution_count": 12,
   "metadata": {},
   "outputs": [],
   "source": [
    "montage = \"standard_1020\"\n",
    "raw_ica.set_montage(montage)"
   ]
  },
  {
   "cell_type": "markdown",
   "metadata": {},
   "source": [
    "### Segment data for ICA\n",
    "Break the data into epochs of 1s  \n",
    "Epochs - segments of data that timed-locked to experimental events of interest"
   ]
  },
  {
   "cell_type": "code",
   "execution_count": 15,
   "metadata": {},
   "outputs": [],
   "source": [
    "tstep = 1.0 #seconds\n",
    "events_ica = mne.make_fixed_length_events(raw_ica, duration=tstep)\n",
    "epochs_ica = mne.Epochs(raw_ica, events_ica,\n",
    "                        tmin=0.0, tmax=tstep,\n",
    "                        baseline=None,\n",
    "                        preload=True)"
   ]
  },
  {
   "cell_type": "code",
   "execution_count": 16,
   "metadata": {},
   "outputs": [
    {
     "data": {
      "text/html": [
       "<table class=\"table table-hover table-striped table-sm table-responsive small\">\n",
       "    <tr>\n",
       "        <th>Number of events</th>\n",
       "        <td>69709</td>\n",
       "    </tr>\n",
       "    <tr>\n",
       "        <th>Events</th>\n",
       "        \n",
       "        <td>1: 69709</td>\n",
       "        \n",
       "    </tr>\n",
       "    <tr>\n",
       "        <th>Time range</th>\n",
       "        <td>0.000 – 1.000 s</td>\n",
       "    </tr>\n",
       "    <tr>\n",
       "        <th>Baseline</th>\n",
       "        <td>off</td>\n",
       "    </tr>\n",
       "</table>"
      ],
      "text/plain": [
       "<Epochs |  69709 events (all good), 0 – 1 s, baseline off, ~3.20 GB, data loaded,\n",
       " '1': 69709>"
      ]
     },
     "execution_count": 16,
     "metadata": {},
     "output_type": "execute_result"
    }
   ],
   "source": [
    "epochs_ica"
   ]
  },
  {
   "cell_type": "code",
   "execution_count": 18,
   "metadata": {},
   "outputs": [
    {
     "ename": "RuntimeError",
     "evalue": "Valid channel positions are needed for autoreject to work",
     "output_type": "error",
     "traceback": [
      "\u001b[0;31m---------------------------------------------------------------------------\u001b[0m",
      "\u001b[0;31mRuntimeError\u001b[0m                              Traceback (most recent call last)",
      "Cell \u001b[0;32mIn[18], line 13\u001b[0m\n\u001b[1;32m      1\u001b[0m \u001b[38;5;28;01mfrom\u001b[39;00m \u001b[38;5;21;01mautoreject\u001b[39;00m \u001b[38;5;28;01mimport\u001b[39;00m AutoReject\n\u001b[1;32m      3\u001b[0m ar \u001b[38;5;241m=\u001b[39m AutoReject(n_interpolate\u001b[38;5;241m=\u001b[39m[\u001b[38;5;241m1\u001b[39m, \u001b[38;5;241m2\u001b[39m, \u001b[38;5;241m4\u001b[39m],\n\u001b[1;32m      4\u001b[0m                 random_state\u001b[38;5;241m=\u001b[39m\u001b[38;5;241m42\u001b[39m,\n\u001b[1;32m      5\u001b[0m                 picks\u001b[38;5;241m=\u001b[39mmne\u001b[38;5;241m.\u001b[39mpick_types(epochs_ica\u001b[38;5;241m.\u001b[39minfo, \n\u001b[0;32m   (...)\u001b[0m\n\u001b[1;32m     10\u001b[0m                 verbose\u001b[38;5;241m=\u001b[39m\u001b[38;5;28;01mFalse\u001b[39;00m\n\u001b[1;32m     11\u001b[0m                 )\n\u001b[0;32m---> 13\u001b[0m \u001b[43mar\u001b[49m\u001b[38;5;241;43m.\u001b[39;49m\u001b[43mfit\u001b[49m\u001b[43m(\u001b[49m\u001b[43mepochs_ica\u001b[49m\u001b[43m)\u001b[49m\n\u001b[1;32m     15\u001b[0m reject_log \u001b[38;5;241m=\u001b[39m ar\u001b[38;5;241m.\u001b[39mget_reject_log(epochs_ica)\n",
      "File \u001b[0;32m~/anaconda3/envs/cheme/lib/python3.9/site-packages/autoreject/autoreject.py:1003\u001b[0m, in \u001b[0;36mAutoReject.fit\u001b[0;34m(self, epochs)\u001b[0m\n\u001b[1;32m   1001\u001b[0m \u001b[38;5;28mself\u001b[39m\u001b[38;5;241m.\u001b[39mpicks_ \u001b[38;5;241m=\u001b[39m _handle_picks(info\u001b[38;5;241m=\u001b[39mepochs\u001b[38;5;241m.\u001b[39minfo, picks\u001b[38;5;241m=\u001b[39m\u001b[38;5;28mself\u001b[39m\u001b[38;5;241m.\u001b[39mpicks)\n\u001b[1;32m   1002\u001b[0m \u001b[38;5;28mself\u001b[39m\u001b[38;5;241m.\u001b[39mpicks_\u001b[38;5;241m.\u001b[39msort()\n\u001b[0;32m-> 1003\u001b[0m \u001b[43m_check_data\u001b[49m\u001b[43m(\u001b[49m\u001b[43mepochs\u001b[49m\u001b[43m,\u001b[49m\u001b[43m \u001b[49m\u001b[43mpicks\u001b[49m\u001b[38;5;241;43m=\u001b[39;49m\u001b[38;5;28;43mself\u001b[39;49m\u001b[38;5;241;43m.\u001b[39;49m\u001b[43mpicks_\u001b[49m\u001b[43m,\u001b[49m\u001b[43m \u001b[49m\u001b[43mverbose\u001b[49m\u001b[38;5;241;43m=\u001b[39;49m\u001b[38;5;28;43mself\u001b[39;49m\u001b[38;5;241;43m.\u001b[39;49m\u001b[43mverbose\u001b[49m\u001b[43m)\u001b[49m\n\u001b[1;32m   1004\u001b[0m \u001b[38;5;28mself\u001b[39m\u001b[38;5;241m.\u001b[39mcv_ \u001b[38;5;241m=\u001b[39m \u001b[38;5;28mself\u001b[39m\u001b[38;5;241m.\u001b[39mcv\n\u001b[1;32m   1005\u001b[0m \u001b[38;5;28;01mif\u001b[39;00m \u001b[38;5;28misinstance\u001b[39m(\u001b[38;5;28mself\u001b[39m\u001b[38;5;241m.\u001b[39mcv_, \u001b[38;5;28mint\u001b[39m):\n",
      "File \u001b[0;32m~/anaconda3/envs/cheme/lib/python3.9/site-packages/autoreject/utils.py:55\u001b[0m, in \u001b[0;36m_check_data\u001b[0;34m(epochs, picks, ch_constraint, check_loc, verbose)\u001b[0m\n\u001b[1;32m     50\u001b[0m ch_types_picked \u001b[38;5;241m=\u001b[39m {\n\u001b[1;32m     51\u001b[0m     channel_type(picked_info, idx)\n\u001b[1;32m     52\u001b[0m     \u001b[38;5;28;01mfor\u001b[39;00m idx \u001b[38;5;129;01min\u001b[39;00m \u001b[38;5;28mrange\u001b[39m(\u001b[38;5;28mlen\u001b[39m(picks))}\n\u001b[1;32m     54\u001b[0m \u001b[38;5;28;01mif\u001b[39;00m check_loc \u001b[38;5;129;01mand\u001b[39;00m \u001b[38;5;129;01mnot\u001b[39;00m _check_ch_locs(picked_info[\u001b[38;5;124m'\u001b[39m\u001b[38;5;124mchs\u001b[39m\u001b[38;5;124m'\u001b[39m]):\n\u001b[0;32m---> 55\u001b[0m     \u001b[38;5;28;01mraise\u001b[39;00m \u001b[38;5;167;01mRuntimeError\u001b[39;00m(\u001b[38;5;124m'\u001b[39m\u001b[38;5;124mValid channel positions are needed \u001b[39m\u001b[38;5;124m'\u001b[39m\n\u001b[1;32m     56\u001b[0m                        \u001b[38;5;124m'\u001b[39m\u001b[38;5;124mfor autoreject to work\u001b[39m\u001b[38;5;124m'\u001b[39m)\n\u001b[1;32m     58\u001b[0m \u001b[38;5;66;03m# XXX : ch_constraint -> allow_many_types=True | False\u001b[39;00m\n\u001b[1;32m     59\u001b[0m supported_channels \u001b[38;5;241m=\u001b[39m [\u001b[38;5;124m'\u001b[39m\u001b[38;5;124mmag\u001b[39m\u001b[38;5;124m'\u001b[39m, \u001b[38;5;124m'\u001b[39m\u001b[38;5;124mgrad\u001b[39m\u001b[38;5;124m'\u001b[39m, \u001b[38;5;124m'\u001b[39m\u001b[38;5;124meeg\u001b[39m\u001b[38;5;124m'\u001b[39m, \u001b[38;5;124m'\u001b[39m\u001b[38;5;124mhbo\u001b[39m\u001b[38;5;124m'\u001b[39m, \u001b[38;5;124m'\u001b[39m\u001b[38;5;124mhbr\u001b[39m\u001b[38;5;124m'\u001b[39m, \u001b[38;5;124m'\u001b[39m\u001b[38;5;124mecog\u001b[39m\u001b[38;5;124m'\u001b[39m, \u001b[38;5;124m'\u001b[39m\u001b[38;5;124mseeg\u001b[39m\u001b[38;5;124m'\u001b[39m]\n",
      "\u001b[0;31mRuntimeError\u001b[0m: Valid channel positions are needed for autoreject to work"
     ]
    }
   ],
   "source": [
    "from autoreject import AutoReject\n",
    "\n",
    "ar = AutoReject(n_interpolate=[1, 2, 4],\n",
    "                random_state=42,\n",
    "                picks=mne.pick_types(epochs_ica.info, \n",
    "                                     eeg=True,\n",
    "                                     eog=False\n",
    "                                    ),\n",
    "                n_jobs=-1, \n",
    "                verbose=False\n",
    "                )\n",
    "\n",
    "ar.fit(epochs_ica)\n",
    "\n",
    "reject_log = ar.get_reject_log(epochs_ica)"
   ]
  },
  {
   "cell_type": "code",
   "execution_count": null,
   "metadata": {},
   "outputs": [],
   "source": [
    "import matplotlib.pyplot as plt\n",
    "\n",
    "fig, ax = plt.subplots(figsize=[15, 5])\n",
    "reject_log.plot('horizontal', ax=ax, aspect='auto')\n",
    "plt.show()"
   ]
  },
  {
   "cell_type": "markdown",
   "metadata": {},
   "source": [
    "## Others"
   ]
  },
  {
   "cell_type": "markdown",
   "metadata": {},
   "source": [
    "### Plots"
   ]
  },
  {
   "cell_type": "code",
   "execution_count": 1,
   "metadata": {},
   "outputs": [],
   "source": [
    "# raw.compute_psd().plot()"
   ]
  },
  {
   "cell_type": "markdown",
   "metadata": {},
   "source": [
    "### Data Preprocessing Information from Johnsen et al.\n",
    "*Common patterns of EEG reactivity in post-anoxic coma identified by quantitative analyses - ScienceDirect* "
   ]
  },
  {
   "cell_type": "markdown",
   "metadata": {},
   "source": [
    "EEG Recordings:  \n",
    "Recorded 20-30 mins during hypothermia from 12-24 hours after target temp reached.  \n",
    "Common average reference montage with 19 electrodes  \n",
    "Sampling rate: 256 Hz  \n",
    "Band-pass filter: 0.5-70 Hz  \n",
    "“Nicolet One” software from “Natus” ver 5.82"
   ]
  },
  {
   "cell_type": "markdown",
   "metadata": {},
   "source": [
    "EEG analyses  \n",
    "2-s epochs x 14 with 50% overlap  \n",
    "From the 1st full second after the stimulation start to 15s after stimulation start.  \n",
    "Reference epoch: 2 seconds before the stimulation start  \n",
    "For example:  \n",
    "Stimulation time: 12:26:15,45  \n",
    "Reference epoch: 12:26:13,00 - 12:26:15,00  \n",
    "Epoch 1: 12:26:16,00 - 12:26:18,00  \n",
    "Epoch 2: 12:26:17,00 - 12:26:19,00  \n",
    "…  \n",
    "Epoch 14: 12:26:29,00 - 12:26:31,00  "
   ]
  },
  {
   "cell_type": "code",
   "execution_count": 26,
   "metadata": {},
   "outputs": [],
   "source": [
    "# Filter settings\n",
    "low_cut = 1\n",
    "hi_cut  = 30\n",
    "\n",
    "raw_filt = raw.copy().filter(low_cut, hi_cut)"
   ]
  },
  {
   "cell_type": "code",
   "execution_count": 22,
   "metadata": {},
   "outputs": [],
   "source": [
    "from eeg_positions import get_alias_mapping, get_available_elec_names, get_elec_coords, plot_coords"
   ]
  },
  {
   "cell_type": "code",
   "execution_count": 24,
   "metadata": {},
   "outputs": [
    {
     "name": "stdout",
     "output_type": "stream",
     "text": [
      "['M2', 'M1', 'A2', 'A1', 'NAS', 'RPA', 'LPA', 'POO8h', 'POO6', 'POO6h', 'POO4', 'POO4h', 'POO2', 'POO2h', 'POO1h', 'POO1', 'POO3h', 'POO3', 'POO5h', 'POO5', 'POO7h', 'PO8h', 'PO6', 'PO6h', 'PO4', 'PO4h', 'PO2', 'PO2h', 'PO1h', 'PO1', 'PO3h', 'PO3', 'PO5h', 'PO5', 'PO7h', 'PPO8h', 'PPO6', 'PPO6h', 'PPO4', 'PPO4h', 'PPO2', 'PPO2h', 'PPO1h', 'PPO1', 'PPO3h', 'PPO3', 'PPO5h', 'PPO5', 'PPO7h', 'P8h', 'P6', 'P6h', 'P4', 'P4h', 'P2', 'P2h', 'P1h', 'P1', 'P3h', 'P3', 'P5h', 'P5', 'P7h', 'TPP8h', 'CPP6', 'CPP6h', 'CPP4', 'CPP4h', 'CPP2', 'CPP2h', 'CPP1h', 'CPP1', 'CPP3h', 'CPP3', 'CPP5h', 'CPP5', 'TPP7h', 'TP8h', 'CP6', 'CP6h', 'CP4', 'CP4h', 'CP2', 'CP2h', 'CP1h', 'CP1', 'CP3h', 'CP3', 'CP5h', 'CP5', 'TP7h', 'TTP8h', 'CCP6', 'CCP6h', 'CCP4', 'CCP4h', 'CCP2', 'CCP2h', 'CCP1h', 'CCP1', 'CCP3h', 'CCP3', 'CCP5h', 'CCP5', 'TTP7h', 'FTT8h', 'FCC6', 'FCC6h', 'FCC4', 'FCC4h', 'FCC2', 'FCC2h', 'FCC1h', 'FCC1', 'FCC3h', 'FCC3', 'FCC5h', 'FCC5', 'FTT7h', 'FT8h', 'FC6', 'FC6h', 'FC4', 'FC4h', 'FC2', 'FC2h', 'FC1h', 'FC1', 'FC3h', 'FC3', 'FC5h', 'FC5', 'FT7h', 'FFT8h', 'FFC6', 'FFC6h', 'FFC4', 'FFC4h', 'FFC2', 'FFC2h', 'FFC1h', 'FFC1', 'FFC3h', 'FFC3', 'FFC5h', 'FFC5', 'FFT7h', 'F8h', 'F6', 'F6h', 'F4', 'F4h', 'F2', 'F2h', 'F1h', 'F1', 'F3h', 'F3', 'F5h', 'F5', 'F7h', 'AFF8h', 'AFF6', 'AFF6h', 'AFF4', 'AFF4h', 'AFF2', 'AFF2h', 'AFF1h', 'AFF1', 'AFF3h', 'AFF3', 'AFF5h', 'AFF5', 'AFF7h', 'AF8h', 'AF6', 'AF6h', 'AF4', 'AF4h', 'AF2', 'AF2h', 'AF1h', 'AF1', 'AF3h', 'AF3', 'AF5h', 'AF5', 'AF7h', 'AFp8h', 'AFp6', 'AFp6h', 'AFp4', 'AFp4h', 'AFp2', 'AFp2h', 'AFp1h', 'AFp1', 'AFp3h', 'AFp3', 'AFp5h', 'AFp5', 'AFp7h', 'O1h', 'O1', 'POO7', 'PO7', 'PPO7', 'P7', 'TPP7', 'TP7', 'TTP7', 'FTT7', 'FT7', 'FFT7', 'F7', 'AFF7', 'AF7', 'AFp7', 'Fp1', 'Fp1h', 'O2h', 'O2', 'POO8', 'PO8', 'PPO8', 'P8', 'TPP8', 'TP8', 'TTP8', 'FTT8', 'FT8', 'FFT8', 'F8', 'AFF8', 'AF8', 'AFp8', 'Fp2', 'Fp2h', 'OI1h', 'OI1', 'POO9h', 'PO9h', 'PPO9h', 'P9h', 'TPP9h', 'TP9h', 'TTP9h', 'FTT9h', 'FT9h', 'FFT9h', 'F9h', 'AFF9h', 'AF9h', 'AFp9h', 'NFp1', 'NFp1h', 'OI2h', 'OI2', 'POO10h', 'PO10h', 'PPO10h', 'P10h', 'TPP10h', 'TP10h', 'TTP10h', 'FTT10h', 'FT10h', 'FFT10h', 'F10h', 'AFF10h', 'AF10h', 'AFp10h', 'NFp2', 'NFp2h', 'T10h', 'T8', 'T8h', 'C6', 'C6h', 'C4', 'C4h', 'C2', 'C2h', 'C1h', 'C1', 'C3h', 'C3', 'C5h', 'C5', 'T7h', 'T7', 'T9h', 'I1h', 'I1', 'POO9', 'PO9', 'PPO9', 'P9', 'TPP9', 'TP9', 'TTP9', 'T9', 'FTT9', 'FT9', 'FFT9', 'F9', 'AFF9', 'AF9', 'AFp9', 'N1', 'N1h', 'I2h', 'I2', 'POO10', 'PO10', 'PPO10', 'P10', 'TPP10', 'TP10', 'TTP10', 'T10', 'FTT10', 'FT10', 'FFT10', 'F10', 'AFF10', 'AF10', 'AFp10', 'N2', 'N2h', 'Iz', 'OIz', 'Oz', 'POOz', 'POz', 'PPOz', 'Pz', 'CPPz', 'CPz', 'CCPz', 'Cz', 'FCCz', 'FCz', 'FFCz', 'Fz', 'AFFz', 'AFz', 'AFpz', 'Fpz', 'NFpz', 'Nz']\n"
     ]
    }
   ],
   "source": [
    "elec_names = get_available_elec_names()\n",
    "print(elec_names[::-1])"
   ]
  },
  {
   "cell_type": "code",
   "execution_count": 25,
   "metadata": {},
   "outputs": [
    {
     "name": "stdout",
     "output_type": "stream",
     "text": [
      "A1: LPA+(-0.1, -0.01, -0.01)\n",
      "A2: RPA+(0.1, -0.01, -0.01)\n",
      "M1: TP9\n",
      "M2: TP10\n"
     ]
    }
   ],
   "source": [
    "alias_mapping = get_alias_mapping()\n",
    "for key, val in alias_mapping.items():\n",
    "    print(f\"{key}: {val}\")"
   ]
  },
  {
   "cell_type": "code",
   "execution_count": 30,
   "metadata": {},
   "outputs": [
    {
     "name": "stderr",
     "output_type": "stream",
     "text": [
      "/Users/khanhha/anaconda3/envs/cheme/lib/python3.9/site-packages/eeg_positions/utils.py:242: FutureWarning: Calling float on a single element Series is deprecated and will raise a TypeError in the future. Use float(ser.iloc[0]) instead\n",
      "  x = float(df[df[\"label\"] == label].x)\n",
      "/Users/khanhha/anaconda3/envs/cheme/lib/python3.9/site-packages/eeg_positions/utils.py:243: FutureWarning: Calling float on a single element Series is deprecated and will raise a TypeError in the future. Use float(ser.iloc[0]) instead\n",
      "  y = float(df[df[\"label\"] == label].y)\n",
      "/Users/khanhha/anaconda3/envs/cheme/lib/python3.9/site-packages/eeg_positions/utils.py:244: FutureWarning: Calling float on a single element Series is deprecated and will raise a TypeError in the future. Use float(ser.iloc[0]) instead\n",
      "  z = float(df[df[\"label\"] == label].z)\n",
      "/Users/khanhha/anaconda3/envs/cheme/lib/python3.9/site-packages/eeg_positions/utils.py:242: FutureWarning: Calling float on a single element Series is deprecated and will raise a TypeError in the future. Use float(ser.iloc[0]) instead\n",
      "  x = float(df[df[\"label\"] == label].x)\n",
      "/Users/khanhha/anaconda3/envs/cheme/lib/python3.9/site-packages/eeg_positions/utils.py:243: FutureWarning: Calling float on a single element Series is deprecated and will raise a TypeError in the future. Use float(ser.iloc[0]) instead\n",
      "  y = float(df[df[\"label\"] == label].y)\n",
      "/Users/khanhha/anaconda3/envs/cheme/lib/python3.9/site-packages/eeg_positions/utils.py:244: FutureWarning: Calling float on a single element Series is deprecated and will raise a TypeError in the future. Use float(ser.iloc[0]) instead\n",
      "  z = float(df[df[\"label\"] == label].z)\n",
      "/Users/khanhha/anaconda3/envs/cheme/lib/python3.9/site-packages/eeg_positions/utils.py:242: FutureWarning: Calling float on a single element Series is deprecated and will raise a TypeError in the future. Use float(ser.iloc[0]) instead\n",
      "  x = float(df[df[\"label\"] == label].x)\n",
      "/Users/khanhha/anaconda3/envs/cheme/lib/python3.9/site-packages/eeg_positions/utils.py:243: FutureWarning: Calling float on a single element Series is deprecated and will raise a TypeError in the future. Use float(ser.iloc[0]) instead\n",
      "  y = float(df[df[\"label\"] == label].y)\n",
      "/Users/khanhha/anaconda3/envs/cheme/lib/python3.9/site-packages/eeg_positions/utils.py:244: FutureWarning: Calling float on a single element Series is deprecated and will raise a TypeError in the future. Use float(ser.iloc[0]) instead\n",
      "  z = float(df[df[\"label\"] == label].z)\n",
      "/Users/khanhha/anaconda3/envs/cheme/lib/python3.9/site-packages/eeg_positions/utils.py:242: FutureWarning: Calling float on a single element Series is deprecated and will raise a TypeError in the future. Use float(ser.iloc[0]) instead\n",
      "  x = float(df[df[\"label\"] == label].x)\n",
      "/Users/khanhha/anaconda3/envs/cheme/lib/python3.9/site-packages/eeg_positions/utils.py:243: FutureWarning: Calling float on a single element Series is deprecated and will raise a TypeError in the future. Use float(ser.iloc[0]) instead\n",
      "  y = float(df[df[\"label\"] == label].y)\n",
      "/Users/khanhha/anaconda3/envs/cheme/lib/python3.9/site-packages/eeg_positions/utils.py:244: FutureWarning: Calling float on a single element Series is deprecated and will raise a TypeError in the future. Use float(ser.iloc[0]) instead\n",
      "  z = float(df[df[\"label\"] == label].z)\n",
      "/Users/khanhha/anaconda3/envs/cheme/lib/python3.9/site-packages/eeg_positions/utils.py:242: FutureWarning: Calling float on a single element Series is deprecated and will raise a TypeError in the future. Use float(ser.iloc[0]) instead\n",
      "  x = float(df[df[\"label\"] == label].x)\n",
      "/Users/khanhha/anaconda3/envs/cheme/lib/python3.9/site-packages/eeg_positions/utils.py:243: FutureWarning: Calling float on a single element Series is deprecated and will raise a TypeError in the future. Use float(ser.iloc[0]) instead\n",
      "  y = float(df[df[\"label\"] == label].y)\n",
      "/Users/khanhha/anaconda3/envs/cheme/lib/python3.9/site-packages/eeg_positions/utils.py:244: FutureWarning: Calling float on a single element Series is deprecated and will raise a TypeError in the future. Use float(ser.iloc[0]) instead\n",
      "  z = float(df[df[\"label\"] == label].z)\n",
      "/Users/khanhha/anaconda3/envs/cheme/lib/python3.9/site-packages/eeg_positions/utils.py:242: FutureWarning: Calling float on a single element Series is deprecated and will raise a TypeError in the future. Use float(ser.iloc[0]) instead\n",
      "  x = float(df[df[\"label\"] == label].x)\n",
      "/Users/khanhha/anaconda3/envs/cheme/lib/python3.9/site-packages/eeg_positions/utils.py:243: FutureWarning: Calling float on a single element Series is deprecated and will raise a TypeError in the future. Use float(ser.iloc[0]) instead\n",
      "  y = float(df[df[\"label\"] == label].y)\n",
      "/Users/khanhha/anaconda3/envs/cheme/lib/python3.9/site-packages/eeg_positions/utils.py:244: FutureWarning: Calling float on a single element Series is deprecated and will raise a TypeError in the future. Use float(ser.iloc[0]) instead\n",
      "  z = float(df[df[\"label\"] == label].z)\n",
      "/Users/khanhha/anaconda3/envs/cheme/lib/python3.9/site-packages/eeg_positions/utils.py:242: FutureWarning: Calling float on a single element Series is deprecated and will raise a TypeError in the future. Use float(ser.iloc[0]) instead\n",
      "  x = float(df[df[\"label\"] == label].x)\n",
      "/Users/khanhha/anaconda3/envs/cheme/lib/python3.9/site-packages/eeg_positions/utils.py:243: FutureWarning: Calling float on a single element Series is deprecated and will raise a TypeError in the future. Use float(ser.iloc[0]) instead\n",
      "  y = float(df[df[\"label\"] == label].y)\n",
      "/Users/khanhha/anaconda3/envs/cheme/lib/python3.9/site-packages/eeg_positions/utils.py:244: FutureWarning: Calling float on a single element Series is deprecated and will raise a TypeError in the future. Use float(ser.iloc[0]) instead\n",
      "  z = float(df[df[\"label\"] == label].z)\n",
      "/Users/khanhha/anaconda3/envs/cheme/lib/python3.9/site-packages/eeg_positions/utils.py:242: FutureWarning: Calling float on a single element Series is deprecated and will raise a TypeError in the future. Use float(ser.iloc[0]) instead\n",
      "  x = float(df[df[\"label\"] == label].x)\n",
      "/Users/khanhha/anaconda3/envs/cheme/lib/python3.9/site-packages/eeg_positions/utils.py:243: FutureWarning: Calling float on a single element Series is deprecated and will raise a TypeError in the future. Use float(ser.iloc[0]) instead\n",
      "  y = float(df[df[\"label\"] == label].y)\n",
      "/Users/khanhha/anaconda3/envs/cheme/lib/python3.9/site-packages/eeg_positions/utils.py:244: FutureWarning: Calling float on a single element Series is deprecated and will raise a TypeError in the future. Use float(ser.iloc[0]) instead\n",
      "  z = float(df[df[\"label\"] == label].z)\n",
      "/Users/khanhha/anaconda3/envs/cheme/lib/python3.9/site-packages/eeg_positions/utils.py:242: FutureWarning: Calling float on a single element Series is deprecated and will raise a TypeError in the future. Use float(ser.iloc[0]) instead\n",
      "  x = float(df[df[\"label\"] == label].x)\n",
      "/Users/khanhha/anaconda3/envs/cheme/lib/python3.9/site-packages/eeg_positions/utils.py:243: FutureWarning: Calling float on a single element Series is deprecated and will raise a TypeError in the future. Use float(ser.iloc[0]) instead\n",
      "  y = float(df[df[\"label\"] == label].y)\n",
      "/Users/khanhha/anaconda3/envs/cheme/lib/python3.9/site-packages/eeg_positions/utils.py:244: FutureWarning: Calling float on a single element Series is deprecated and will raise a TypeError in the future. Use float(ser.iloc[0]) instead\n",
      "  z = float(df[df[\"label\"] == label].z)\n",
      "/Users/khanhha/anaconda3/envs/cheme/lib/python3.9/site-packages/eeg_positions/utils.py:242: FutureWarning: Calling float on a single element Series is deprecated and will raise a TypeError in the future. Use float(ser.iloc[0]) instead\n",
      "  x = float(df[df[\"label\"] == label].x)\n",
      "/Users/khanhha/anaconda3/envs/cheme/lib/python3.9/site-packages/eeg_positions/utils.py:243: FutureWarning: Calling float on a single element Series is deprecated and will raise a TypeError in the future. Use float(ser.iloc[0]) instead\n",
      "  y = float(df[df[\"label\"] == label].y)\n",
      "/Users/khanhha/anaconda3/envs/cheme/lib/python3.9/site-packages/eeg_positions/utils.py:244: FutureWarning: Calling float on a single element Series is deprecated and will raise a TypeError in the future. Use float(ser.iloc[0]) instead\n",
      "  z = float(df[df[\"label\"] == label].z)\n",
      "/Users/khanhha/anaconda3/envs/cheme/lib/python3.9/site-packages/eeg_positions/utils.py:242: FutureWarning: Calling float on a single element Series is deprecated and will raise a TypeError in the future. Use float(ser.iloc[0]) instead\n",
      "  x = float(df[df[\"label\"] == label].x)\n",
      "/Users/khanhha/anaconda3/envs/cheme/lib/python3.9/site-packages/eeg_positions/utils.py:243: FutureWarning: Calling float on a single element Series is deprecated and will raise a TypeError in the future. Use float(ser.iloc[0]) instead\n",
      "  y = float(df[df[\"label\"] == label].y)\n",
      "/Users/khanhha/anaconda3/envs/cheme/lib/python3.9/site-packages/eeg_positions/utils.py:244: FutureWarning: Calling float on a single element Series is deprecated and will raise a TypeError in the future. Use float(ser.iloc[0]) instead\n",
      "  z = float(df[df[\"label\"] == label].z)\n",
      "/Users/khanhha/anaconda3/envs/cheme/lib/python3.9/site-packages/eeg_positions/utils.py:242: FutureWarning: Calling float on a single element Series is deprecated and will raise a TypeError in the future. Use float(ser.iloc[0]) instead\n",
      "  x = float(df[df[\"label\"] == label].x)\n",
      "/Users/khanhha/anaconda3/envs/cheme/lib/python3.9/site-packages/eeg_positions/utils.py:243: FutureWarning: Calling float on a single element Series is deprecated and will raise a TypeError in the future. Use float(ser.iloc[0]) instead\n",
      "  y = float(df[df[\"label\"] == label].y)\n",
      "/Users/khanhha/anaconda3/envs/cheme/lib/python3.9/site-packages/eeg_positions/utils.py:244: FutureWarning: Calling float on a single element Series is deprecated and will raise a TypeError in the future. Use float(ser.iloc[0]) instead\n",
      "  z = float(df[df[\"label\"] == label].z)\n",
      "/Users/khanhha/anaconda3/envs/cheme/lib/python3.9/site-packages/eeg_positions/utils.py:242: FutureWarning: Calling float on a single element Series is deprecated and will raise a TypeError in the future. Use float(ser.iloc[0]) instead\n",
      "  x = float(df[df[\"label\"] == label].x)\n",
      "/Users/khanhha/anaconda3/envs/cheme/lib/python3.9/site-packages/eeg_positions/utils.py:243: FutureWarning: Calling float on a single element Series is deprecated and will raise a TypeError in the future. Use float(ser.iloc[0]) instead\n",
      "  y = float(df[df[\"label\"] == label].y)\n",
      "/Users/khanhha/anaconda3/envs/cheme/lib/python3.9/site-packages/eeg_positions/utils.py:244: FutureWarning: Calling float on a single element Series is deprecated and will raise a TypeError in the future. Use float(ser.iloc[0]) instead\n",
      "  z = float(df[df[\"label\"] == label].z)\n",
      "/Users/khanhha/anaconda3/envs/cheme/lib/python3.9/site-packages/eeg_positions/utils.py:242: FutureWarning: Calling float on a single element Series is deprecated and will raise a TypeError in the future. Use float(ser.iloc[0]) instead\n",
      "  x = float(df[df[\"label\"] == label].x)\n",
      "/Users/khanhha/anaconda3/envs/cheme/lib/python3.9/site-packages/eeg_positions/utils.py:243: FutureWarning: Calling float on a single element Series is deprecated and will raise a TypeError in the future. Use float(ser.iloc[0]) instead\n",
      "  y = float(df[df[\"label\"] == label].y)\n",
      "/Users/khanhha/anaconda3/envs/cheme/lib/python3.9/site-packages/eeg_positions/utils.py:244: FutureWarning: Calling float on a single element Series is deprecated and will raise a TypeError in the future. Use float(ser.iloc[0]) instead\n",
      "  z = float(df[df[\"label\"] == label].z)\n",
      "/Users/khanhha/anaconda3/envs/cheme/lib/python3.9/site-packages/eeg_positions/utils.py:242: FutureWarning: Calling float on a single element Series is deprecated and will raise a TypeError in the future. Use float(ser.iloc[0]) instead\n",
      "  x = float(df[df[\"label\"] == label].x)\n",
      "/Users/khanhha/anaconda3/envs/cheme/lib/python3.9/site-packages/eeg_positions/utils.py:243: FutureWarning: Calling float on a single element Series is deprecated and will raise a TypeError in the future. Use float(ser.iloc[0]) instead\n",
      "  y = float(df[df[\"label\"] == label].y)\n",
      "/Users/khanhha/anaconda3/envs/cheme/lib/python3.9/site-packages/eeg_positions/utils.py:244: FutureWarning: Calling float on a single element Series is deprecated and will raise a TypeError in the future. Use float(ser.iloc[0]) instead\n",
      "  z = float(df[df[\"label\"] == label].z)\n",
      "/Users/khanhha/anaconda3/envs/cheme/lib/python3.9/site-packages/eeg_positions/utils.py:242: FutureWarning: Calling float on a single element Series is deprecated and will raise a TypeError in the future. Use float(ser.iloc[0]) instead\n",
      "  x = float(df[df[\"label\"] == label].x)\n",
      "/Users/khanhha/anaconda3/envs/cheme/lib/python3.9/site-packages/eeg_positions/utils.py:243: FutureWarning: Calling float on a single element Series is deprecated and will raise a TypeError in the future. Use float(ser.iloc[0]) instead\n",
      "  y = float(df[df[\"label\"] == label].y)\n",
      "/Users/khanhha/anaconda3/envs/cheme/lib/python3.9/site-packages/eeg_positions/utils.py:244: FutureWarning: Calling float on a single element Series is deprecated and will raise a TypeError in the future. Use float(ser.iloc[0]) instead\n",
      "  z = float(df[df[\"label\"] == label].z)\n",
      "/Users/khanhha/anaconda3/envs/cheme/lib/python3.9/site-packages/eeg_positions/utils.py:242: FutureWarning: Calling float on a single element Series is deprecated and will raise a TypeError in the future. Use float(ser.iloc[0]) instead\n",
      "  x = float(df[df[\"label\"] == label].x)\n",
      "/Users/khanhha/anaconda3/envs/cheme/lib/python3.9/site-packages/eeg_positions/utils.py:243: FutureWarning: Calling float on a single element Series is deprecated and will raise a TypeError in the future. Use float(ser.iloc[0]) instead\n",
      "  y = float(df[df[\"label\"] == label].y)\n",
      "/Users/khanhha/anaconda3/envs/cheme/lib/python3.9/site-packages/eeg_positions/utils.py:244: FutureWarning: Calling float on a single element Series is deprecated and will raise a TypeError in the future. Use float(ser.iloc[0]) instead\n",
      "  z = float(df[df[\"label\"] == label].z)\n",
      "/Users/khanhha/anaconda3/envs/cheme/lib/python3.9/site-packages/eeg_positions/utils.py:242: FutureWarning: Calling float on a single element Series is deprecated and will raise a TypeError in the future. Use float(ser.iloc[0]) instead\n",
      "  x = float(df[df[\"label\"] == label].x)\n",
      "/Users/khanhha/anaconda3/envs/cheme/lib/python3.9/site-packages/eeg_positions/utils.py:243: FutureWarning: Calling float on a single element Series is deprecated and will raise a TypeError in the future. Use float(ser.iloc[0]) instead\n",
      "  y = float(df[df[\"label\"] == label].y)\n",
      "/Users/khanhha/anaconda3/envs/cheme/lib/python3.9/site-packages/eeg_positions/utils.py:244: FutureWarning: Calling float on a single element Series is deprecated and will raise a TypeError in the future. Use float(ser.iloc[0]) instead\n",
      "  z = float(df[df[\"label\"] == label].z)\n",
      "/Users/khanhha/anaconda3/envs/cheme/lib/python3.9/site-packages/eeg_positions/utils.py:242: FutureWarning: Calling float on a single element Series is deprecated and will raise a TypeError in the future. Use float(ser.iloc[0]) instead\n",
      "  x = float(df[df[\"label\"] == label].x)\n",
      "/Users/khanhha/anaconda3/envs/cheme/lib/python3.9/site-packages/eeg_positions/utils.py:243: FutureWarning: Calling float on a single element Series is deprecated and will raise a TypeError in the future. Use float(ser.iloc[0]) instead\n",
      "  y = float(df[df[\"label\"] == label].y)\n",
      "/Users/khanhha/anaconda3/envs/cheme/lib/python3.9/site-packages/eeg_positions/utils.py:244: FutureWarning: Calling float on a single element Series is deprecated and will raise a TypeError in the future. Use float(ser.iloc[0]) instead\n",
      "  z = float(df[df[\"label\"] == label].z)\n",
      "/Users/khanhha/anaconda3/envs/cheme/lib/python3.9/site-packages/eeg_positions/utils.py:242: FutureWarning: Calling float on a single element Series is deprecated and will raise a TypeError in the future. Use float(ser.iloc[0]) instead\n",
      "  x = float(df[df[\"label\"] == label].x)\n",
      "/Users/khanhha/anaconda3/envs/cheme/lib/python3.9/site-packages/eeg_positions/utils.py:243: FutureWarning: Calling float on a single element Series is deprecated and will raise a TypeError in the future. Use float(ser.iloc[0]) instead\n",
      "  y = float(df[df[\"label\"] == label].y)\n",
      "/Users/khanhha/anaconda3/envs/cheme/lib/python3.9/site-packages/eeg_positions/utils.py:244: FutureWarning: Calling float on a single element Series is deprecated and will raise a TypeError in the future. Use float(ser.iloc[0]) instead\n",
      "  z = float(df[df[\"label\"] == label].z)\n",
      "/Users/khanhha/anaconda3/envs/cheme/lib/python3.9/site-packages/eeg_positions/utils.py:242: FutureWarning: Calling float on a single element Series is deprecated and will raise a TypeError in the future. Use float(ser.iloc[0]) instead\n",
      "  x = float(df[df[\"label\"] == label].x)\n",
      "/Users/khanhha/anaconda3/envs/cheme/lib/python3.9/site-packages/eeg_positions/utils.py:243: FutureWarning: Calling float on a single element Series is deprecated and will raise a TypeError in the future. Use float(ser.iloc[0]) instead\n",
      "  y = float(df[df[\"label\"] == label].y)\n",
      "/Users/khanhha/anaconda3/envs/cheme/lib/python3.9/site-packages/eeg_positions/utils.py:244: FutureWarning: Calling float on a single element Series is deprecated and will raise a TypeError in the future. Use float(ser.iloc[0]) instead\n",
      "  z = float(df[df[\"label\"] == label].z)\n",
      "/Users/khanhha/anaconda3/envs/cheme/lib/python3.9/site-packages/eeg_positions/utils.py:242: FutureWarning: Calling float on a single element Series is deprecated and will raise a TypeError in the future. Use float(ser.iloc[0]) instead\n",
      "  x = float(df[df[\"label\"] == label].x)\n",
      "/Users/khanhha/anaconda3/envs/cheme/lib/python3.9/site-packages/eeg_positions/utils.py:243: FutureWarning: Calling float on a single element Series is deprecated and will raise a TypeError in the future. Use float(ser.iloc[0]) instead\n",
      "  y = float(df[df[\"label\"] == label].y)\n",
      "/Users/khanhha/anaconda3/envs/cheme/lib/python3.9/site-packages/eeg_positions/utils.py:244: FutureWarning: Calling float on a single element Series is deprecated and will raise a TypeError in the future. Use float(ser.iloc[0]) instead\n",
      "  z = float(df[df[\"label\"] == label].z)\n"
     ]
    }
   ],
   "source": [
    "# Just use `elec_names`\n",
    "coords = get_elec_coords(\n",
    "    elec_names=['C3', 'C4', 'O1', 'O2', 'A1', 'A2', 'Cz', 'F3', 'F4', 'F7', 'F8', 'Fz', \n",
    "            'Fp1', 'Fp2', 'Fpz', 'P3', 'P4', 'Pz'],\n",
    "            # 'T3', 'ECGL', 'ECGR', 'T6', 'T5', 'T4'\n",
    "    drop_landmarks=False,\n",
    "    dim=\"3d\",\n",
    ")"
   ]
  },
  {
   "cell_type": "code",
   "execution_count": 31,
   "metadata": {},
   "outputs": [
    {
     "data": {
      "text/html": [
       "<div>\n",
       "<style scoped>\n",
       "    .dataframe tbody tr th:only-of-type {\n",
       "        vertical-align: middle;\n",
       "    }\n",
       "\n",
       "    .dataframe tbody tr th {\n",
       "        vertical-align: top;\n",
       "    }\n",
       "\n",
       "    .dataframe thead th {\n",
       "        text-align: right;\n",
       "    }\n",
       "</style>\n",
       "<table border=\"1\" class=\"dataframe\">\n",
       "  <thead>\n",
       "    <tr style=\"text-align: right;\">\n",
       "      <th></th>\n",
       "      <th>label</th>\n",
       "      <th>x</th>\n",
       "      <th>y</th>\n",
       "      <th>z</th>\n",
       "    </tr>\n",
       "  </thead>\n",
       "  <tbody>\n",
       "    <tr>\n",
       "      <th>0</th>\n",
       "      <td>C3</td>\n",
       "      <td>-0.5878</td>\n",
       "      <td>0.0000</td>\n",
       "      <td>0.809</td>\n",
       "    </tr>\n",
       "    <tr>\n",
       "      <th>1</th>\n",
       "      <td>C4</td>\n",
       "      <td>0.5878</td>\n",
       "      <td>0.0000</td>\n",
       "      <td>0.809</td>\n",
       "    </tr>\n",
       "    <tr>\n",
       "      <th>2</th>\n",
       "      <td>O1</td>\n",
       "      <td>-0.2939</td>\n",
       "      <td>-0.9045</td>\n",
       "      <td>0.309</td>\n",
       "    </tr>\n",
       "    <tr>\n",
       "      <th>3</th>\n",
       "      <td>O2</td>\n",
       "      <td>0.2939</td>\n",
       "      <td>-0.9045</td>\n",
       "      <td>0.309</td>\n",
       "    </tr>\n",
       "    <tr>\n",
       "      <th>4</th>\n",
       "      <td>A1</td>\n",
       "      <td>NaN</td>\n",
       "      <td>NaN</td>\n",
       "      <td>NaN</td>\n",
       "    </tr>\n",
       "    <tr>\n",
       "      <th>5</th>\n",
       "      <td>A2</td>\n",
       "      <td>NaN</td>\n",
       "      <td>NaN</td>\n",
       "      <td>NaN</td>\n",
       "    </tr>\n",
       "    <tr>\n",
       "      <th>6</th>\n",
       "      <td>Cz</td>\n",
       "      <td>0.0000</td>\n",
       "      <td>0.0000</td>\n",
       "      <td>1.000</td>\n",
       "    </tr>\n",
       "    <tr>\n",
       "      <th>7</th>\n",
       "      <td>F3</td>\n",
       "      <td>-0.4591</td>\n",
       "      <td>0.5800</td>\n",
       "      <td>0.673</td>\n",
       "    </tr>\n",
       "    <tr>\n",
       "      <th>8</th>\n",
       "      <td>F4</td>\n",
       "      <td>0.4591</td>\n",
       "      <td>0.5800</td>\n",
       "      <td>0.673</td>\n",
       "    </tr>\n",
       "    <tr>\n",
       "      <th>9</th>\n",
       "      <td>F7</td>\n",
       "      <td>-0.7695</td>\n",
       "      <td>0.5590</td>\n",
       "      <td>0.309</td>\n",
       "    </tr>\n",
       "    <tr>\n",
       "      <th>10</th>\n",
       "      <td>F8</td>\n",
       "      <td>0.7695</td>\n",
       "      <td>0.5590</td>\n",
       "      <td>0.309</td>\n",
       "    </tr>\n",
       "    <tr>\n",
       "      <th>11</th>\n",
       "      <td>Fz</td>\n",
       "      <td>0.0000</td>\n",
       "      <td>0.5878</td>\n",
       "      <td>0.809</td>\n",
       "    </tr>\n",
       "    <tr>\n",
       "      <th>12</th>\n",
       "      <td>Fp1</td>\n",
       "      <td>-0.2939</td>\n",
       "      <td>0.9045</td>\n",
       "      <td>0.309</td>\n",
       "    </tr>\n",
       "    <tr>\n",
       "      <th>13</th>\n",
       "      <td>Fp2</td>\n",
       "      <td>0.2939</td>\n",
       "      <td>0.9045</td>\n",
       "      <td>0.309</td>\n",
       "    </tr>\n",
       "    <tr>\n",
       "      <th>14</th>\n",
       "      <td>Fpz</td>\n",
       "      <td>0.0000</td>\n",
       "      <td>0.9511</td>\n",
       "      <td>0.309</td>\n",
       "    </tr>\n",
       "    <tr>\n",
       "      <th>15</th>\n",
       "      <td>P3</td>\n",
       "      <td>-0.4591</td>\n",
       "      <td>-0.5800</td>\n",
       "      <td>0.673</td>\n",
       "    </tr>\n",
       "    <tr>\n",
       "      <th>16</th>\n",
       "      <td>P4</td>\n",
       "      <td>0.4591</td>\n",
       "      <td>-0.5800</td>\n",
       "      <td>0.673</td>\n",
       "    </tr>\n",
       "    <tr>\n",
       "      <th>17</th>\n",
       "      <td>Pz</td>\n",
       "      <td>0.0000</td>\n",
       "      <td>-0.5878</td>\n",
       "      <td>0.809</td>\n",
       "    </tr>\n",
       "  </tbody>\n",
       "</table>\n",
       "</div>"
      ],
      "text/plain": [
       "   label       x       y      z\n",
       "0     C3 -0.5878  0.0000  0.809\n",
       "1     C4  0.5878  0.0000  0.809\n",
       "2     O1 -0.2939 -0.9045  0.309\n",
       "3     O2  0.2939 -0.9045  0.309\n",
       "4     A1     NaN     NaN    NaN\n",
       "5     A2     NaN     NaN    NaN\n",
       "6     Cz  0.0000  0.0000  1.000\n",
       "7     F3 -0.4591  0.5800  0.673\n",
       "8     F4  0.4591  0.5800  0.673\n",
       "9     F7 -0.7695  0.5590  0.309\n",
       "10    F8  0.7695  0.5590  0.309\n",
       "11    Fz  0.0000  0.5878  0.809\n",
       "12   Fp1 -0.2939  0.9045  0.309\n",
       "13   Fp2  0.2939  0.9045  0.309\n",
       "14   Fpz  0.0000  0.9511  0.309\n",
       "15    P3 -0.4591 -0.5800  0.673\n",
       "16    P4  0.4591 -0.5800  0.673\n",
       "17    Pz  0.0000 -0.5878  0.809"
      ]
     },
     "execution_count": 31,
     "metadata": {},
     "output_type": "execute_result"
    }
   ],
   "source": [
    "coords"
   ]
  },
  {
   "cell_type": "code",
   "execution_count": null,
   "metadata": {},
   "outputs": [],
   "source": []
  }
 ],
 "metadata": {
  "kernelspec": {
   "display_name": "cheme",
   "language": "python",
   "name": "python3"
  },
  "language_info": {
   "codemirror_mode": {
    "name": "ipython",
    "version": 3
   },
   "file_extension": ".py",
   "mimetype": "text/x-python",
   "name": "python",
   "nbconvert_exporter": "python",
   "pygments_lexer": "ipython3",
   "version": "3.9.18"
  }
 },
 "nbformat": 4,
 "nbformat_minor": 2
}
