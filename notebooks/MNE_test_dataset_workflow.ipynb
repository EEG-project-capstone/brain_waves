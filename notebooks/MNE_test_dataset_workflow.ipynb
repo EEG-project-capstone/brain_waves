{
 "cells": [
  {
   "cell_type": "markdown",
   "id": "abc7591e-9bca-42d3-b37a-b95e29cfdb38",
   "metadata": {},
   "source": [
    "### Import packages"
   ]
  },
  {
   "cell_type": "code",
   "execution_count": 1,
   "id": "2270af80-c56a-43ba-9a10-e9c6db5cf796",
   "metadata": {},
   "outputs": [],
   "source": [
    "import numpy as np\n",
    "import mne\n",
    "import matplotlib"
   ]
  },
  {
   "cell_type": "markdown",
   "id": "22a7f900",
   "metadata": {},
   "source": [
    "## Load raw data"
   ]
  },
  {
   "cell_type": "code",
   "execution_count": 3,
   "id": "6d01a21f",
   "metadata": {},
   "outputs": [],
   "source": [
    "file_path = r'/Users/khanhha/Desktop/EEG_data/eeg1.EDF'"
   ]
  },
  {
   "cell_type": "code",
   "execution_count": 4,
   "id": "3a7170b7-fdb1-4117-904e-aeb00bac739d",
   "metadata": {},
   "outputs": [
    {
     "name": "stdout",
     "output_type": "stream",
     "text": [
      "Extracting EDF parameters from /Users/khanhha/Desktop/EEG_data/eeg1.EDF...\n",
      "EDF file detected\n",
      "Setting channel info structure...\n",
      "Creating raw.info structure...\n"
     ]
    },
    {
     "data": {
      "text/html": [
       "<details open>\n",
       "    <summary><strong>General</strong></summary>\n",
       "    <table class=\"table table-hover table-striped table-sm table-responsive small\">\n",
       "        <tr>\n",
       "            <th>Measurement date</th>\n",
       "            \n",
       "            <td>April 03, 2024  13:30:37 GMT</td>\n",
       "            \n",
       "        </tr>\n",
       "        <tr>\n",
       "            <th>Experimenter</th>\n",
       "            \n",
       "            <td>Unknown</td>\n",
       "            \n",
       "        </tr>\n",
       "        <tr>\n",
       "            <th>Participant</th>\n",
       "            \n",
       "            \n",
       "            <td>X</td>\n",
       "            \n",
       "            \n",
       "        </tr>\n",
       "    </table>\n",
       "    </details>\n",
       "    <details open>\n",
       "        <summary><strong>Channels</strong></summary>\n",
       "        <table class=\"table table-hover table-striped table-sm table-responsive small\">\n",
       "            <tr>\n",
       "                <th>Digitized points</th>\n",
       "                \n",
       "                <td>Not available</td>\n",
       "                \n",
       "            </tr>\n",
       "            <tr>\n",
       "                <th>Good channels</th>\n",
       "                <td>24 EEG</td>\n",
       "            </tr>\n",
       "            <tr>\n",
       "                <th>Bad channels</th>\n",
       "                <td>None</td>\n",
       "            </tr>\n",
       "            <tr>\n",
       "                <th>EOG channels</th>\n",
       "                <td>Not available</td>\n",
       "            </tr>\n",
       "            <tr>\n",
       "                <th>ECG channels</th>\n",
       "                <td>Not available</td>\n",
       "            </tr>\n",
       "        </table>\n",
       "        </details>\n",
       "        <details open>\n",
       "            <summary><strong>Data</strong></summary>\n",
       "            <table class=\"table table-hover table-striped table-sm table-responsive small\">\n",
       "                \n",
       "                <tr>\n",
       "                    <th>Sampling frequency</th>\n",
       "                    <td>256.00 Hz</td>\n",
       "                </tr>\n",
       "                \n",
       "                \n",
       "                <tr>\n",
       "                    <th>Highpass</th>\n",
       "                    <td>0.00 Hz</td>\n",
       "                </tr>\n",
       "                \n",
       "                \n",
       "                <tr>\n",
       "                    <th>Lowpass</th>\n",
       "                    <td>128.00 Hz</td>\n",
       "                </tr>\n",
       "                \n",
       "                \n",
       "                \n",
       "                <tr>\n",
       "                    <th>Filenames</th>\n",
       "                    <td>eeg1.EDF</td>\n",
       "                </tr>\n",
       "                \n",
       "                \n",
       "                <tr>\n",
       "                    <th>Duration</th>\n",
       "                    <td>19:21:50 (HH:MM:SS)</td>\n",
       "                </tr>\n",
       "                \n",
       "            </table>\n",
       "            </details>"
      ],
      "text/plain": [
       "<RawEDF | eeg1.EDF, 24 x 17845760 (69710.0 s), ~28 kB, data not loaded>"
      ]
     },
     "execution_count": 4,
     "metadata": {},
     "output_type": "execute_result"
    }
   ],
   "source": [
    "data = mne.io.read_raw_edf(file_path)\n",
    "data"
   ]
  },
  {
   "cell_type": "markdown",
   "id": "422e9e3a",
   "metadata": {},
   "source": [
    "## Visualize the data"
   ]
  },
  {
   "cell_type": "code",
   "execution_count": 5,
   "id": "9e7344bb",
   "metadata": {},
   "outputs": [],
   "source": [
    "# Use matplotlib Qt5Agg backend - best choice for MNE-Python interactive plotting functions\n",
    "matplotlib.use('Qt5Agg')"
   ]
  },
  {
   "cell_type": "code",
   "execution_count": 6,
   "id": "badf733b",
   "metadata": {},
   "outputs": [],
   "source": [
    "# data.plot()"
   ]
  },
  {
   "cell_type": "markdown",
   "id": "382b27ca",
   "metadata": {},
   "source": [
    "## Components of EEG Data"
   ]
  },
  {
   "cell_type": "code",
   "execution_count": 7,
   "id": "41f58092",
   "metadata": {},
   "outputs": [],
   "source": [
    "info = data.info"
   ]
  },
  {
   "cell_type": "code",
   "execution_count": 8,
   "id": "518077e6",
   "metadata": {},
   "outputs": [
    {
     "name": "stdout",
     "output_type": "stream",
     "text": [
      "highpass :\n",
      "0.0\n",
      "lowpass :\n",
      "128.0\n",
      "meas_date :\n",
      "2024-04-03 13:30:37+00:00\n",
      "subject_info :\n",
      "{'his_id': 'X', 'sex': 0, 'first_name': 'X', 'last_name': 'X'}\n",
      "bads :\n",
      "[]\n",
      "chs :\n",
      "[{'cal': 1.0, 'logno': 1, 'scanno': 1, 'range': 1.0, 'unit_mul': 0 (FIFF_UNITM_NONE), 'ch_name': 'C3', 'unit': 107 (FIFF_UNIT_V), 'coord_frame': 4 (FIFFV_COORD_HEAD), 'coil_type': 1 (FIFFV_COIL_EEG), 'kind': 2 (FIFFV_EEG_CH), 'loc': array([nan, nan, nan, nan, nan, nan, nan, nan, nan, nan, nan, nan])}, {'cal': 1.0, 'logno': 2, 'scanno': 2, 'range': 1.0, 'unit_mul': 0 (FIFF_UNITM_NONE), 'ch_name': 'C4', 'unit': 107 (FIFF_UNIT_V), 'coord_frame': 4 (FIFFV_COORD_HEAD), 'coil_type': 1 (FIFFV_COIL_EEG), 'kind': 2 (FIFFV_EEG_CH), 'loc': array([nan, nan, nan, nan, nan, nan, nan, nan, nan, nan, nan, nan])}, {'cal': 1.0, 'logno': 3, 'scanno': 3, 'range': 1.0, 'unit_mul': 0 (FIFF_UNITM_NONE), 'ch_name': 'O1', 'unit': 107 (FIFF_UNIT_V), 'coord_frame': 4 (FIFFV_COORD_HEAD), 'coil_type': 1 (FIFFV_COIL_EEG), 'kind': 2 (FIFFV_EEG_CH), 'loc': array([nan, nan, nan, nan, nan, nan, nan, nan, nan, nan, nan, nan])}, {'cal': 1.0, 'logno': 4, 'scanno': 4, 'range': 1.0, 'unit_mul': 0 (FIFF_UNITM_NONE), 'ch_name': 'O2', 'unit': 107 (FIFF_UNIT_V), 'coord_frame': 4 (FIFFV_COORD_HEAD), 'coil_type': 1 (FIFFV_COIL_EEG), 'kind': 2 (FIFFV_EEG_CH), 'loc': array([nan, nan, nan, nan, nan, nan, nan, nan, nan, nan, nan, nan])}, {'cal': 1.0, 'logno': 5, 'scanno': 5, 'range': 1.0, 'unit_mul': 0 (FIFF_UNITM_NONE), 'ch_name': 'A1', 'unit': 107 (FIFF_UNIT_V), 'coord_frame': 4 (FIFFV_COORD_HEAD), 'coil_type': 1 (FIFFV_COIL_EEG), 'kind': 2 (FIFFV_EEG_CH), 'loc': array([nan, nan, nan, nan, nan, nan, nan, nan, nan, nan, nan, nan])}, {'cal': 1.0, 'logno': 6, 'scanno': 6, 'range': 1.0, 'unit_mul': 0 (FIFF_UNITM_NONE), 'ch_name': 'A2', 'unit': 107 (FIFF_UNIT_V), 'coord_frame': 4 (FIFFV_COORD_HEAD), 'coil_type': 1 (FIFFV_COIL_EEG), 'kind': 2 (FIFFV_EEG_CH), 'loc': array([nan, nan, nan, nan, nan, nan, nan, nan, nan, nan, nan, nan])}, {'cal': 1.0, 'logno': 7, 'scanno': 7, 'range': 1.0, 'unit_mul': 0 (FIFF_UNITM_NONE), 'ch_name': 'Cz', 'unit': 107 (FIFF_UNIT_V), 'coord_frame': 4 (FIFFV_COORD_HEAD), 'coil_type': 1 (FIFFV_COIL_EEG), 'kind': 2 (FIFFV_EEG_CH), 'loc': array([nan, nan, nan, nan, nan, nan, nan, nan, nan, nan, nan, nan])}, {'cal': 1.0, 'logno': 8, 'scanno': 8, 'range': 1.0, 'unit_mul': 0 (FIFF_UNITM_NONE), 'ch_name': 'F3', 'unit': 107 (FIFF_UNIT_V), 'coord_frame': 4 (FIFFV_COORD_HEAD), 'coil_type': 1 (FIFFV_COIL_EEG), 'kind': 2 (FIFFV_EEG_CH), 'loc': array([nan, nan, nan, nan, nan, nan, nan, nan, nan, nan, nan, nan])}, {'cal': 1.0, 'logno': 9, 'scanno': 9, 'range': 1.0, 'unit_mul': 0 (FIFF_UNITM_NONE), 'ch_name': 'F4', 'unit': 107 (FIFF_UNIT_V), 'coord_frame': 4 (FIFFV_COORD_HEAD), 'coil_type': 1 (FIFFV_COIL_EEG), 'kind': 2 (FIFFV_EEG_CH), 'loc': array([nan, nan, nan, nan, nan, nan, nan, nan, nan, nan, nan, nan])}, {'cal': 1.0, 'logno': 10, 'scanno': 10, 'range': 1.0, 'unit_mul': 0 (FIFF_UNITM_NONE), 'ch_name': 'F7', 'unit': 107 (FIFF_UNIT_V), 'coord_frame': 4 (FIFFV_COORD_HEAD), 'coil_type': 1 (FIFFV_COIL_EEG), 'kind': 2 (FIFFV_EEG_CH), 'loc': array([nan, nan, nan, nan, nan, nan, nan, nan, nan, nan, nan, nan])}, {'cal': 1.0, 'logno': 11, 'scanno': 11, 'range': 1.0, 'unit_mul': 0 (FIFF_UNITM_NONE), 'ch_name': 'F8', 'unit': 107 (FIFF_UNIT_V), 'coord_frame': 4 (FIFFV_COORD_HEAD), 'coil_type': 1 (FIFFV_COIL_EEG), 'kind': 2 (FIFFV_EEG_CH), 'loc': array([nan, nan, nan, nan, nan, nan, nan, nan, nan, nan, nan, nan])}, {'cal': 1.0, 'logno': 12, 'scanno': 12, 'range': 1.0, 'unit_mul': 0 (FIFF_UNITM_NONE), 'ch_name': 'Fz', 'unit': 107 (FIFF_UNIT_V), 'coord_frame': 4 (FIFFV_COORD_HEAD), 'coil_type': 1 (FIFFV_COIL_EEG), 'kind': 2 (FIFFV_EEG_CH), 'loc': array([nan, nan, nan, nan, nan, nan, nan, nan, nan, nan, nan, nan])}, {'cal': 1.0, 'logno': 13, 'scanno': 13, 'range': 1.0, 'unit_mul': 0 (FIFF_UNITM_NONE), 'ch_name': 'Fp1', 'unit': 107 (FIFF_UNIT_V), 'coord_frame': 4 (FIFFV_COORD_HEAD), 'coil_type': 1 (FIFFV_COIL_EEG), 'kind': 2 (FIFFV_EEG_CH), 'loc': array([nan, nan, nan, nan, nan, nan, nan, nan, nan, nan, nan, nan])}, {'cal': 1.0, 'logno': 14, 'scanno': 14, 'range': 1.0, 'unit_mul': 0 (FIFF_UNITM_NONE), 'ch_name': 'Fp2', 'unit': 107 (FIFF_UNIT_V), 'coord_frame': 4 (FIFFV_COORD_HEAD), 'coil_type': 1 (FIFFV_COIL_EEG), 'kind': 2 (FIFFV_EEG_CH), 'loc': array([nan, nan, nan, nan, nan, nan, nan, nan, nan, nan, nan, nan])}, {'cal': 1.0, 'logno': 15, 'scanno': 15, 'range': 1.0, 'unit_mul': 0 (FIFF_UNITM_NONE), 'ch_name': 'Fpz', 'unit': 107 (FIFF_UNIT_V), 'coord_frame': 4 (FIFFV_COORD_HEAD), 'coil_type': 1 (FIFFV_COIL_EEG), 'kind': 2 (FIFFV_EEG_CH), 'loc': array([nan, nan, nan, nan, nan, nan, nan, nan, nan, nan, nan, nan])}, {'cal': 1.0, 'logno': 16, 'scanno': 16, 'range': 1.0, 'unit_mul': 0 (FIFF_UNITM_NONE), 'ch_name': 'P3', 'unit': 107 (FIFF_UNIT_V), 'coord_frame': 4 (FIFFV_COORD_HEAD), 'coil_type': 1 (FIFFV_COIL_EEG), 'kind': 2 (FIFFV_EEG_CH), 'loc': array([nan, nan, nan, nan, nan, nan, nan, nan, nan, nan, nan, nan])}, {'cal': 1.0, 'logno': 17, 'scanno': 17, 'range': 1.0, 'unit_mul': 0 (FIFF_UNITM_NONE), 'ch_name': 'P4', 'unit': 107 (FIFF_UNIT_V), 'coord_frame': 4 (FIFFV_COORD_HEAD), 'coil_type': 1 (FIFFV_COIL_EEG), 'kind': 2 (FIFFV_EEG_CH), 'loc': array([nan, nan, nan, nan, nan, nan, nan, nan, nan, nan, nan, nan])}, {'cal': 1.0, 'logno': 18, 'scanno': 18, 'range': 1.0, 'unit_mul': 0 (FIFF_UNITM_NONE), 'ch_name': 'Pz', 'unit': 107 (FIFF_UNIT_V), 'coord_frame': 4 (FIFFV_COORD_HEAD), 'coil_type': 1 (FIFFV_COIL_EEG), 'kind': 2 (FIFFV_EEG_CH), 'loc': array([nan, nan, nan, nan, nan, nan, nan, nan, nan, nan, nan, nan])}, {'cal': 1.0, 'logno': 19, 'scanno': 19, 'range': 1.0, 'unit_mul': 0 (FIFF_UNITM_NONE), 'ch_name': 'T3', 'unit': 107 (FIFF_UNIT_V), 'coord_frame': 4 (FIFFV_COORD_HEAD), 'coil_type': 1 (FIFFV_COIL_EEG), 'kind': 2 (FIFFV_EEG_CH), 'loc': array([nan, nan, nan, nan, nan, nan, nan, nan, nan, nan, nan, nan])}, {'cal': 1.0, 'logno': 20, 'scanno': 20, 'range': 1.0, 'unit_mul': 0 (FIFF_UNITM_NONE), 'ch_name': 'T4', 'unit': 107 (FIFF_UNIT_V), 'coord_frame': 4 (FIFFV_COORD_HEAD), 'coil_type': 1 (FIFFV_COIL_EEG), 'kind': 2 (FIFFV_EEG_CH), 'loc': array([nan, nan, nan, nan, nan, nan, nan, nan, nan, nan, nan, nan])}, {'cal': 1.0, 'logno': 21, 'scanno': 21, 'range': 1.0, 'unit_mul': 0 (FIFF_UNITM_NONE), 'ch_name': 'T5', 'unit': 107 (FIFF_UNIT_V), 'coord_frame': 4 (FIFFV_COORD_HEAD), 'coil_type': 1 (FIFFV_COIL_EEG), 'kind': 2 (FIFFV_EEG_CH), 'loc': array([nan, nan, nan, nan, nan, nan, nan, nan, nan, nan, nan, nan])}, {'cal': 1.0, 'logno': 22, 'scanno': 22, 'range': 1.0, 'unit_mul': 0 (FIFF_UNITM_NONE), 'ch_name': 'T6', 'unit': 107 (FIFF_UNIT_V), 'coord_frame': 4 (FIFFV_COORD_HEAD), 'coil_type': 1 (FIFFV_COIL_EEG), 'kind': 2 (FIFFV_EEG_CH), 'loc': array([nan, nan, nan, nan, nan, nan, nan, nan, nan, nan, nan, nan])}, {'cal': 1.0, 'logno': 23, 'scanno': 23, 'range': 1.0, 'unit_mul': 0 (FIFF_UNITM_NONE), 'ch_name': 'ECGL', 'unit': 107 (FIFF_UNIT_V), 'coord_frame': 4 (FIFFV_COORD_HEAD), 'coil_type': 1 (FIFFV_COIL_EEG), 'kind': 2 (FIFFV_EEG_CH), 'loc': array([nan, nan, nan, nan, nan, nan, nan, nan, nan, nan, nan, nan])}, {'cal': 1.0, 'logno': 24, 'scanno': 24, 'range': 1.0, 'unit_mul': 0 (FIFF_UNITM_NONE), 'ch_name': 'ECGR', 'unit': 107 (FIFF_UNIT_V), 'coord_frame': 4 (FIFFV_COORD_HEAD), 'coil_type': 1 (FIFFV_COIL_EEG), 'kind': 2 (FIFFV_EEG_CH), 'loc': array([nan, nan, nan, nan, nan, nan, nan, nan, nan, nan, nan, nan])}]\n",
      "comps :\n",
      "[]\n",
      "events :\n",
      "[]\n",
      "hpi_meas :\n",
      "[]\n",
      "hpi_results :\n",
      "[]\n",
      "projs :\n",
      "[]\n",
      "proc_history :\n",
      "[]\n",
      "custom_ref_applied :\n",
      "0 (FIFFV_MNE_CUSTOM_REF_OFF)\n",
      "sfreq :\n",
      "256.0\n",
      "dev_head_t :\n",
      "<Transform | MEG device->head>\n",
      "[[1. 0. 0. 0.]\n",
      " [0. 1. 0. 0.]\n",
      " [0. 0. 1. 0.]\n",
      " [0. 0. 0. 1.]]\n",
      "ch_names :\n",
      "['C3', 'C4', 'O1', 'O2', 'A1', 'A2', 'Cz', 'F3', 'F4', 'F7', 'F8', 'Fz', 'Fp1', 'Fp2', 'Fpz', 'P3', 'P4', 'Pz', 'T3', 'T4', 'T5', 'T6', 'ECGL', 'ECGR']\n",
      "nchan :\n",
      "24\n"
     ]
    }
   ],
   "source": [
    "for key in info.keys():\n",
    "    if info[key] == None:\n",
    "        pass\n",
    "    else:\n",
    "        print(key, ':')\n",
    "        print(info[key])"
   ]
  },
  {
   "cell_type": "markdown",
   "id": "eedcd6ae",
   "metadata": {},
   "source": [
    "## Function"
   ]
  },
  {
   "cell_type": "code",
   "execution_count": 11,
   "id": "18210f46",
   "metadata": {},
   "outputs": [],
   "source": [
    "def read_data(file_path):\n",
    "    data = mne.io.read_raw_edf(file_path, preload=True)\n",
    "    data.set_eeg_reference()\n",
    "    data.filter(l_freq=0.5, h_freq=45)\n",
    "    epochs = mne.make_fixed_length_epochs(data, duration=5, overlap=1)\n",
    "    array = epochs.get_data()\n",
    "    return array"
   ]
  },
  {
   "cell_type": "code",
   "execution_count": 12,
   "id": "6aa03395",
   "metadata": {},
   "outputs": [
    {
     "name": "stdout",
     "output_type": "stream",
     "text": [
      "Extracting EDF parameters from /Users/khanhha/Desktop/EEG_data/eeg1.EDF...\n",
      "EDF file detected\n",
      "Setting channel info structure...\n",
      "Creating raw.info structure...\n",
      "Reading 0 ... 17845759  =      0.000 ... 69709.996 secs...\n",
      "EEG channel type selected for re-referencing\n",
      "Applying average reference.\n",
      "Applying a custom ('EEG',) reference.\n",
      "Filtering raw data in 1 contiguous segment\n",
      "Setting up band-pass filter from 0.5 - 45 Hz\n",
      "\n",
      "FIR filter parameters\n",
      "---------------------\n",
      "Designing a one-pass, zero-phase, non-causal bandpass filter:\n",
      "- Windowed time-domain design (firwin) method\n",
      "- Hamming window with 0.0194 passband ripple and 53 dB stopband attenuation\n",
      "- Lower passband edge: 0.50\n",
      "- Lower transition bandwidth: 0.50 Hz (-6 dB cutoff frequency: 0.25 Hz)\n",
      "- Upper passband edge: 45.00 Hz\n",
      "- Upper transition bandwidth: 11.25 Hz (-6 dB cutoff frequency: 50.62 Hz)\n",
      "- Filter length: 1691 samples (6.605 s)\n",
      "\n"
     ]
    },
    {
     "name": "stderr",
     "output_type": "stream",
     "text": [
      "[Parallel(n_jobs=1)]: Using backend SequentialBackend with 1 concurrent workers.\n",
      "[Parallel(n_jobs=1)]: Done   1 out of   1 | elapsed:    5.7s remaining:    0.0s\n",
      "[Parallel(n_jobs=1)]: Done   2 out of   2 | elapsed:   11.0s remaining:    0.0s\n",
      "[Parallel(n_jobs=1)]: Done   3 out of   3 | elapsed:   16.2s remaining:    0.0s\n",
      "[Parallel(n_jobs=1)]: Done   4 out of   4 | elapsed:   22.1s remaining:    0.0s\n",
      "[Parallel(n_jobs=1)]: Done  24 out of  24 | elapsed:  2.3min finished\n"
     ]
    },
    {
     "name": "stdout",
     "output_type": "stream",
     "text": [
      "Not setting metadata\n",
      "17427 matching events found\n",
      "No baseline correction applied\n",
      "0 projection items activated\n",
      "Using data from preloaded Raw for 17427 events and 1280 original time points ...\n",
      "0 bad epochs dropped\n"
     ]
    }
   ],
   "source": [
    "sample_data = read_data(file_path)"
   ]
  },
  {
   "cell_type": "code",
   "execution_count": 13,
   "id": "a92eb7cb",
   "metadata": {},
   "outputs": [
    {
     "data": {
      "text/plain": [
       "array([[[-6.03087458e-19, -2.42839620e-05, -4.85802493e-05, ...,\n",
       "          5.54940310e-05,  5.17384368e-05,  5.32426905e-05],\n",
       "        [-3.43895377e-19,  1.19532570e-05,  2.38933669e-05, ...,\n",
       "         -1.24701563e-05, -7.17014114e-06, -1.96634394e-06],\n",
       "        [ 6.30192513e-19,  1.01011820e-05,  2.01895736e-05, ...,\n",
       "          1.53316556e-05,  7.24256942e-06, -3.34325201e-09],\n",
       "        ...,\n",
       "        [-7.15742840e-20,  9.21847638e-06,  1.84238498e-05, ...,\n",
       "          3.30990266e-05,  3.13734242e-05,  3.04766730e-05],\n",
       "        [-3.48977574e-19, -1.97362511e-06, -3.98368105e-06, ...,\n",
       "          5.21086053e-05,  4.87232557e-05,  4.32038317e-05],\n",
       "        [ 2.20228566e-19, -1.29675630e-06, -2.63007581e-06, ...,\n",
       "          4.70606000e-05,  4.41358563e-05,  3.89850231e-05]],\n",
       "\n",
       "       [[ 1.85459050e-04,  1.80542135e-04,  1.74580589e-04, ...,\n",
       "          1.79327913e-06,  9.52119675e-06,  1.56559635e-05],\n",
       "        [-2.28609967e-04, -2.30452081e-04, -2.26849488e-04, ...,\n",
       "         -5.84155875e-06, -1.58107481e-06, -5.01876885e-07],\n",
       "        [-2.06347292e-04, -2.08688718e-04, -2.11816956e-04, ...,\n",
       "          1.19382466e-04,  1.18473314e-04,  1.16753819e-04],\n",
       "        ...,\n",
       "        [-1.85991262e-04, -1.82703672e-04, -1.79896136e-04, ...,\n",
       "         -9.01350000e-07, -4.79899531e-06, -7.03813743e-06],\n",
       "        [-3.30675867e-05, -3.26097330e-05, -2.80213628e-05, ...,\n",
       "          4.39387739e-05,  4.70853680e-05,  5.26193308e-05],\n",
       "        [ 1.85883323e-05,  1.76359674e-05,  2.11439794e-05, ...,\n",
       "         -9.90618786e-05, -8.97224071e-05, -7.81396571e-05]],\n",
       "\n",
       "       [[ 5.78116981e-05,  6.08174113e-05,  5.44463543e-05, ...,\n",
       "         -5.39345079e-05, -5.24638229e-05, -4.64455727e-05],\n",
       "        [-4.30095727e-06, -1.58447138e-05, -3.23270114e-05, ...,\n",
       "          5.94416602e-05,  6.37248123e-05,  6.16399531e-05],\n",
       "        [ 1.23171135e-04,  1.33863569e-04,  1.37127256e-04, ...,\n",
       "          1.72260205e-04,  1.66051186e-04,  1.64698494e-04],\n",
       "        ...,\n",
       "        [ 3.37465114e-05,  2.93076291e-05,  3.14075688e-05, ...,\n",
       "          4.51562529e-05,  5.37320848e-05,  6.29312126e-05],\n",
       "        [-1.54159232e-04, -1.49834180e-04, -1.53924072e-04, ...,\n",
       "          3.05006924e-05,  2.98247795e-05,  2.49277361e-05],\n",
       "        [-1.19052931e-05, -8.71416574e-06, -1.31877178e-05, ...,\n",
       "         -1.99702686e-05, -2.07025174e-05, -2.50156167e-05]],\n",
       "\n",
       "       ...,\n",
       "\n",
       "       [[-2.19437240e-07, -2.24021131e-07, -6.92483810e-09, ...,\n",
       "          7.95645828e-08,  5.17282716e-08, -8.23763965e-08],\n",
       "        [ 5.73425438e-07,  6.03346332e-07,  4.86461211e-07, ...,\n",
       "         -3.24857738e-07, -2.73977119e-08,  3.83569499e-07],\n",
       "        [-1.03549471e-06, -8.51901979e-07, -3.05331705e-07, ...,\n",
       "          3.33168697e-07,  1.15808458e-07, -2.99998286e-07],\n",
       "        ...,\n",
       "        [ 1.80196766e-09, -1.37785498e-07, -3.91105363e-07, ...,\n",
       "         -5.60229605e-07, -9.64744277e-07, -9.38334942e-07],\n",
       "        [ 9.61130933e-07,  5.92035369e-07,  1.91792280e-07, ...,\n",
       "         -2.91814835e-07, -3.85266587e-07, -3.37383330e-07],\n",
       "        [ 4.21911653e-07, -1.96013578e-07, -4.67848669e-07, ...,\n",
       "         -2.86828319e-08, -5.52779129e-07, -8.58636265e-07]],\n",
       "\n",
       "       [[ 7.88843768e-07,  8.07410142e-07,  7.61229042e-07, ...,\n",
       "         -4.72027322e-08, -4.26430263e-08, -6.06303963e-09],\n",
       "        [ 1.90667167e-07,  2.34665182e-07,  2.95615741e-07, ...,\n",
       "         -2.64064224e-07, -2.30823239e-07, -2.33568233e-07],\n",
       "        [ 3.17913347e-07,  8.21669272e-08, -4.50686978e-09, ...,\n",
       "         -5.50961189e-07, -6.52988009e-07, -5.84000955e-07],\n",
       "        ...,\n",
       "        [ 6.58088103e-07,  6.68518926e-07,  1.56726438e-07, ...,\n",
       "          5.07742973e-07,  2.90238791e-07,  2.25556810e-07],\n",
       "        [ 5.78422400e-07,  4.58092265e-07,  4.73635286e-07, ...,\n",
       "         -6.42095611e-08, -1.83448867e-07, -2.08686278e-07],\n",
       "        [ 6.46381118e-07,  2.65541542e-07, -1.60423517e-07, ...,\n",
       "         -6.53452444e-07, -9.76660746e-07, -9.18940158e-07]],\n",
       "\n",
       "       [[ 3.10147539e-07,  2.50603046e-07, -3.57560361e-08, ...,\n",
       "          6.11724787e-06,  5.88980271e-06,  5.94539137e-06],\n",
       "        [ 3.38818827e-07,  5.48353580e-07,  5.52672787e-07, ...,\n",
       "          4.37730492e-06,  4.53930508e-06,  4.71889553e-06],\n",
       "        [-8.41082220e-08, -1.08039618e-07, -7.06307273e-08, ...,\n",
       "         -2.40319717e-06, -2.69734780e-06, -2.89929190e-06],\n",
       "        ...,\n",
       "        [-1.15938649e-08, -2.50574640e-07, -3.65150367e-07, ...,\n",
       "         -3.96126934e-07, -5.55150524e-07, -5.79034906e-07],\n",
       "        [ 6.51252326e-07,  1.90203312e-07, -1.72693060e-07, ...,\n",
       "         -7.80512773e-06, -8.46596350e-06, -8.96590527e-06],\n",
       "        [ 6.72508879e-07,  2.25116057e-07, -1.53472063e-07, ...,\n",
       "         -5.17573297e-07, -1.48107936e-06, -1.69772890e-06]]])"
      ]
     },
     "execution_count": 13,
     "metadata": {},
     "output_type": "execute_result"
    }
   ],
   "source": [
    "sample_data"
   ]
  },
  {
   "cell_type": "code",
   "execution_count": null,
   "id": "9f77caea",
   "metadata": {},
   "outputs": [],
   "source": []
  }
 ],
 "metadata": {
  "kernelspec": {
   "display_name": "Python 3 (ipykernel)",
   "language": "python",
   "name": "python3"
  },
  "language_info": {
   "codemirror_mode": {
    "name": "ipython",
    "version": 3
   },
   "file_extension": ".py",
   "mimetype": "text/x-python",
   "name": "python",
   "nbconvert_exporter": "python",
   "pygments_lexer": "ipython3",
   "version": "3.9.18"
  }
 },
 "nbformat": 4,
 "nbformat_minor": 5
}
