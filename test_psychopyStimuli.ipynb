{
 "cells": [
  {
   "cell_type": "code",
   "execution_count": 12,
   "id": "59d8dcf2-df0e-4b2b-9578-33b0324bb211",
   "metadata": {},
   "outputs": [
    {
     "ename": "ModuleNotFoundError",
     "evalue": "No module named 'stimulus_package'",
     "output_type": "error",
     "traceback": [
      "\u001b[0;31m---------------------------------------------------------------------------\u001b[0m",
      "\u001b[0;31mModuleNotFoundError\u001b[0m                       Traceback (most recent call last)",
      "Cell \u001b[0;32mIn[12], line 2\u001b[0m\n\u001b[1;32m      1\u001b[0m \u001b[38;5;28;01mimport\u001b[39;00m \u001b[38;5;21;01munittest\u001b[39;00m\n\u001b[0;32m----> 2\u001b[0m \u001b[38;5;28;01mimport\u001b[39;00m \u001b[38;5;21;01mstimulus_package\u001b[39;00m \n\u001b[1;32m      4\u001b[0m \u001b[38;5;66;03m#test if the output sentence is of type string\u001b[39;00m\n\u001b[1;32m      5\u001b[0m \u001b[38;5;28;01mclass\u001b[39;00m \u001b[38;5;21;01mTestPatientID\u001b[39;00m(unittest\u001b[38;5;241m.\u001b[39mTestCase):\n",
      "\u001b[0;31mModuleNotFoundError\u001b[0m: No module named 'stimulus_package'"
     ]
    }
   ],
   "source": [
    "import unittest\n",
    "import stimulus_package \n",
    "\n",
    "#test if the output sentence is of type string\n",
    "class TestPatientID(unittest.TestCase):\n",
    "    def test_generate_sentence(self):\n",
    "        with self.assertLogs() as cm:\n",
    "            output = generate_sentence()\n",
    "            self.assertTrue(all(isinstance(item, str) for item in output))\n",
    "\n",
    "if __name__ == '__main__':\n",
    "  unittest.main()"
   ]
  },
  {
   "cell_type": "code",
   "execution_count": null,
   "id": "bbdcc276-ebb4-4c2f-b632-77e9009cdf24",
   "metadata": {},
   "outputs": [],
   "source": []
  }
 ],
 "metadata": {
  "kernelspec": {
   "display_name": "Python 3 (ipykernel)",
   "language": "python",
   "name": "python3"
  },
  "language_info": {
   "codemirror_mode": {
    "name": "ipython",
    "version": 3
   },
   "file_extension": ".py",
   "mimetype": "text/x-python",
   "name": "python",
   "nbconvert_exporter": "python",
   "pygments_lexer": "ipython3",
   "version": "3.10.12"
  }
 },
 "nbformat": 4,
 "nbformat_minor": 5
}
