{
 "cells": [
  {
   "cell_type": "code",
   "execution_count": 7,
   "id": "59d8dcf2-df0e-4b2b-9578-33b0324bb211",
   "metadata": {},
   "outputs": [],
   "source": [
    "import unittest\n",
    "import stimulus_package \n",
    "\n",
    "#test if the output sentence is of type string\n",
    "class TestPatientID(unittest.TestCase):\n",
    "    def test_generate_sentence(self):\n",
    "        with self.assertLogs() as cm:\n",
    "            output = generate_sentence()\n",
    "            self.assertTrue(all(isinstance(item, str) for item in output))\n",
    "\n",
    "    def test_update_sentences_dict(self):\n",
    "        with self.assertLogs() as cm:\n",
    "            output = update_sentences_dict(sentences_dict, patient_id, date, timestamp, sentence)\n",
    "            self.assertTrue(all(isintance(item, str) for item in output))\n",
    "    \n",
    "    # Testing that the patient ID that is returned is the same as the one that is inputted\n",
    "    def test_correct_patientID(self):   \n",
    "        with self.assertLogs() as cm:\n",
    "            for x in range(20):\n",
    "                output = stimulus_package.generate_and_play_sentences(x, x,\n",
    "                                noun_list_path, adj_list_path,\n",
    "                                verb_list_path)\n",
    "                self.assertTrue((x==patient_id) for patient_id in output)\n",
    "\n",
    "#if __name__ == '__main__':\n",
    "#  unittest.main()"
   ]
  },
  {
   "cell_type": "code",
   "execution_count": null,
   "id": "bbdcc276-ebb4-4c2f-b632-77e9009cdf24",
   "metadata": {},
   "outputs": [],
   "source": [
    "#Test patient ID is in correct format, must change what it is equal to to what the input should be \n",
    "#class test_inputs(unittest.TestCase):\n",
    " #   def test_patient_id(self):\n",
    "     #   self.assertTrue(patient_id == str)\n",
    "        "
   ]
  }
 ],
 "metadata": {
  "kernelspec": {
   "display_name": "Python 3 (ipykernel)",
   "language": "python",
   "name": "python3"
  },
  "language_info": {
   "codemirror_mode": {
    "name": "ipython",
    "version": 3
   },
   "file_extension": ".py",
   "mimetype": "text/x-python",
   "name": "python",
   "nbconvert_exporter": "python",
   "pygments_lexer": "ipython3",
   "version": "3.9.18"
  }
 },
 "nbformat": 4,
 "nbformat_minor": 5
}
