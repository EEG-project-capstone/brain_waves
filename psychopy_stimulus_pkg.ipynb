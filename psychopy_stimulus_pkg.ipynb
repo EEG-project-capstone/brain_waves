{
 "cells": [
  {
   "cell_type": "code",
   "execution_count": null,
   "id": "bd8cd6a5",
   "metadata": {},
   "outputs": [
    {
     "name": "stderr",
     "output_type": "stream",
     "text": [
      "2024-02-27 10:07:34.277 python[8283:387736] Warning: Expected min height of view: (<NSPopoverTouchBarItemButton: 0x7f7b2855cb20>) to be less than or equal to 30 but got a height of 32.000000. This error will be logged once per view in violation.\n",
      "2024-02-27 10:07:34.277 python[8283:387736] Warning: Expected min height of view: (<NSButton: 0x7f7b28574350>) to be less than or equal to 30 but got a height of 32.000000. This error will be logged once per view in violation.\n",
      "2024-02-27 10:07:34.279 python[8283:387736] Warning: Expected min height of view: (<NSPopoverTouchBarItemButton: 0x7f7b28572340>) to be less than or equal to 30 but got a height of 32.000000. This error will be logged once per view in violation.\n",
      "2024-02-27 10:07:34.281 python[8283:387736] Warning: Expected min height of view: (<NSPopoverTouchBarItemButton: 0x7f7b285763f0>) to be less than or equal to 30 but got a height of 32.000000. This error will be logged once per view in violation.\n"
     ]
    }
   ],
   "source": [
    "from psychopy import core, visual, sound\n",
    "from gtts import gTTS\n",
    "import os\n",
    "import random  # Import random module\n",
    "\n",
    "# Define dictionaries (modify these with your desired words)\n",
    "noun_dict = {\"cat\", \"dog\", \"table\", \"book\"}\n",
    "adj_dict = {\"red\", \"blue\", \"happy\", \"sad\"}\n",
    "verb_dict = {\"jumps\", \"sleeps\", \"stands\", \"lies\"}\n",
    "\n",
    "# Initialize PsychoPy window\n",
    "win = visual.Window(fullscr=False, allowGUI=False)\n",
    "\n",
    "# Initialize text stimulus\n",
    "text_stim = visual.TextStim(win, text=\"\")\n",
    "\n",
    "# Initialize Google Text-to-Speech engine\n",
    "tts = gTTS(text=\" \", lang=\"en\")\n",
    "\n",
    "def generate_sentence():\n",
    "    \"\"\"Generates a random sentence by picking one word from each dictionary.\"\"\"\n",
    "    noun = random.choice(list(noun_dict))\n",
    "    adj = random.choice(list(adj_dict))\n",
    "    verb = random.choice(list(verb_dict))\n",
    "    return f\"{noun} is {adj} and {verb}\"\n",
    "\n",
    "\n",
    "# Sentence counter so window/program will close out automatically\n",
    "sentence_count = 0\n",
    "\n",
    "while sentence_count <= 20:  # Continue looping until 20 sentences are generated\n",
    "    # Generate random sentence\n",
    "    sentence = generate_sentence()\n",
    "\n",
    "    # Update text stimulus and TTS object\n",
    "    text_stim.text = sentence\n",
    "    tts.text = sentence\n",
    "    tts.save(\"temp.mp3\")\n",
    "\n",
    "    # Play audio and display text\n",
    "    sound.Sound(\"temp.mp3\").play()\n",
    "    text_stim.draw()\n",
    "    win.flip()\n",
    "\n",
    "    # Wait for 5 seconds\n",
    "    core.wait(5)\n",
    "    \n",
    "    # Increment the sentence count\n",
    "    sentence_count += 1\n",
    "\n",
    "# Close window\n",
    "win.close()\n",
    "os.remove(\"temp.mp3\")  # Corrected file name and added quotes around file name"
   ]
  },
  {
   "cell_type": "code",
   "execution_count": null,
   "id": "c8776d40",
   "metadata": {},
   "outputs": [],
   "source": []
  }
 ],
 "metadata": {
  "kernelspec": {
   "display_name": "Python 3 (ipykernel)",
   "language": "python",
   "name": "python3"
  },
  "language_info": {
   "codemirror_mode": {
    "name": "ipython",
    "version": 3
   },
   "file_extension": ".py",
   "mimetype": "text/x-python",
   "name": "python",
   "nbconvert_exporter": "python",
   "pygments_lexer": "ipython3",
   "version": "3.9.17"
  }
 },
 "nbformat": 4,
 "nbformat_minor": 5
}
