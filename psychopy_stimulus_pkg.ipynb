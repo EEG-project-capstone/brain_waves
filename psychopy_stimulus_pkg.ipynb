{
 "cells": [
  {
   "cell_type": "markdown",
   "id": "bd38b947",
   "metadata": {
    "colab_type": "text",
    "id": "view-in-github"
   },
   "source": [
    "<a href=\"https://colab.research.google.com/github/anika-gupta-8/brain_waves/blob/main/psychopy_stimulus_pkg.ipynb\" target=\"_parent\"><img src=\"https://colab.research.google.com/assets/colab-badge.svg\" alt=\"Open In Colab\"/></a>"
   ]
  },
  {
   "cell_type": "markdown",
   "id": "fe3e5191",
   "metadata": {
    "id": "fe3e5191"
   },
   "source": [
    "To do:\n",
    "1. Create a dictionary to hold the sentences that a patient is hearing (key = timestamp, contents = sentence) DONE\n",
    "2. Play mp3 file while the sentence is being displayed on the screen DONE\n",
    "3. Add tests"
   ]
  },
  {
   "cell_type": "code",
   "execution_count": null,
   "id": "bd8cd6a5",
   "metadata": {
    "id": "bd8cd6a5",
    "outputId": "2831b6db-e6d7-4d46-b7dd-9271ea2d1a19"
   },
   "outputs": [
    {
     "name": "stderr",
     "output_type": "stream",
     "text": [
      "2024-02-28 14:01:39.431 python[2522:89660] Warning: Expected min height of view: (<NSPopoverTouchBarItemButton: 0x7f865f231f20>) to be less than or equal to 30 but got a height of 32.000000. This error will be logged once per view in violation.\n",
      "2024-02-28 14:01:39.432 python[2522:89660] Warning: Expected min height of view: (<NSButton: 0x7f865e9118c0>) to be less than or equal to 30 but got a height of 32.000000. This error will be logged once per view in violation.\n",
      "2024-02-28 14:01:39.433 python[2522:89660] Warning: Expected min height of view: (<NSPopoverTouchBarItemButton: 0x7f865e911ff0>) to be less than or equal to 30 but got a height of 32.000000. This error will be logged once per view in violation.\n",
      "2024-02-28 14:01:39.435 python[2522:89660] Warning: Expected min height of view: (<NSPopoverTouchBarItemButton: 0x7f866d3314f0>) to be less than or equal to 30 but got a height of 32.000000. This error will be logged once per view in violation.\n"
     ]
    },
    {
     "name": "stdout",
     "output_type": "stream",
     "text": [
      "got to here\n",
      "got to here\n",
      "got to here\n"
     ]
    }
   ],
   "source": [
    "from psychopy import core, visual, sound\n",
    "from gtts import gTTS\n",
    "import os\n",
    "import random  # Import random module\n",
    "from psychopy.sound import Sound\n",
    "import psychtoolbox as ptb\n",
    "\n",
    "# Define dictionaries (modify these with your desired words)\n",
    "noun_dict = [\"cat\", \"dog\", \"table\", \"book\"]\n",
    "adj_dict = [\"red\", \"blue\", \"happy\", \"sad\"]\n",
    "verb_dict = [\"jumps\", \"sleeps\", \"stands\", \"lies\"]\n",
    "\n",
    "# Initialize PsychoPy window\n",
    "win = visual.Window(fullscr=False, allowGUI=False)\n",
    "\n",
    "# Initialize text stimulus\n",
    "text_stim = visual.TextStim(win, text=\"\")\n",
    "\n",
    "# Initialize Google Text-to-Speech engine\n",
    "tts = gTTS(text=\" \", lang=\"en\")\n",
    "\n",
    "def generate_sentence():\n",
    "    \"\"\"Generates a random sentence by picking one word from each dictionary.\"\"\"\n",
    "    noun = random.choice(noun_dict)\n",
    "    adj = random.choice(adj_dict)\n",
    "    verb = random.choice(verb_dict)\n",
    "    return f\"{noun} is {adj} and {verb}\"\n",
    "\n",
    "\n",
    "# Sentence counter so window/program will close out automatically\n",
    "sentence_count = 0\n",
    "\n",
    "while sentence_count <= 20:  # Continue looping until 20 sentences are generated\n",
    "    # Generate random sentence\n",
    "    sentence = generate_sentence()\n",
    "\n",
    "    # Update text stimulus and TTS object\n",
    "    text_stim.text = sentence\n",
    "    tts.text = sentence\n",
    "    tts.save(\"temp.mp3\")\n",
    "\n",
    "    # Play audio and display text\n",
    "    sentence_sound = sound.Sound(\"temp.mp3\")\n",
    "    now = ptb.GetSecs()\n",
    "    Sound.play(sentence_sound, when=now)\n",
    "    \n",
    "    text_stim.draw()\n",
    "    win.flip()\n",
    "\n",
    "    # Wait for 5 seconds\n",
    "    core.wait(5)\n",
    "\n",
    "    # Increment the sentence count\n",
    "    sentence_count += 1\n",
    "\n",
    "# Close window\n",
    "win.close()\n",
    "os.remove(\"temp.mp3\")  # Corrected file name and added quotes around file name"
   ]
  },
  {
   "cell_type": "code",
   "execution_count": null,
   "id": "64bbdb0b",
   "metadata": {},
   "outputs": [],
   "source": []
  },
  {
   "cell_type": "code",
   "execution_count": null,
   "id": "c8776d40",
   "metadata": {
    "id": "c8776d40"
   },
   "outputs": [],
   "source": []
  }
 ],
 "metadata": {
  "colab": {
   "include_colab_link": true,
   "provenance": []
  },
  "kernelspec": {
   "display_name": "Python 3 (ipykernel)",
   "language": "python",
   "name": "python3"
  },
  "language_info": {
   "codemirror_mode": {
    "name": "ipython",
    "version": 3
   },
   "file_extension": ".py",
   "mimetype": "text/x-python",
   "name": "python",
   "nbconvert_exporter": "python",
   "pygments_lexer": "ipython3",
   "version": "3.9.17"
  }
 },
 "nbformat": 4,
 "nbformat_minor": 5
}
