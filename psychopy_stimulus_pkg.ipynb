{
 "cells": [
  {
   "cell_type": "markdown",
   "id": "bd38b947",
   "metadata": {
    "colab_type": "text",
    "id": "view-in-github"
   },
   "source": [
    "<a href=\"https://colab.research.google.com/github/anika-gupta-8/brain_waves/blob/main/psychopy_stimulus_pkg.ipynb\" target=\"_parent\"><img src=\"https://colab.research.google.com/assets/colab-badge.svg\" alt=\"Open In Colab\"/></a>"
   ]
  },
  {
   "cell_type": "markdown",
   "id": "fe3e5191",
   "metadata": {
    "id": "fe3e5191"
   },
   "source": [
    "To do:\n",
    "1. Create a dictionary to hold the sentences that a patient is hearing (key = timestamp, contents = sentence) DONE\n",
    "2. Play mp3 file while the sentence is being displayed on the screen DONE\n",
    "3. Add tests"
   ]
  },
  {
   "cell_type": "code",
   "execution_count": 2,
   "id": "bd8cd6a5",
   "metadata": {
    "id": "bd8cd6a5",
    "outputId": "2831b6db-e6d7-4d46-b7dd-9271ea2d1a19"
   },
   "outputs": [
    {
     "ename": "SyntaxError",
     "evalue": "invalid syntax (2898741184.py, line 23)",
     "output_type": "error",
     "traceback": [
      "\u001b[0;36m  Cell \u001b[0;32mIn[2], line 23\u001b[0;36m\u001b[0m\n\u001b[0;31m    \"\"\"Generates a random sentence by picking one word from each dictionary.\"\"\"\u001b[0m\n\u001b[0m       ^\u001b[0m\n\u001b[0;31mSyntaxError\u001b[0m\u001b[0;31m:\u001b[0m invalid syntax\n"
     ]
    }
   ],
   "source": [
    "from psychopy import core, visual, sound\n",
    "from gtts import gTTS\n",
    "import os\n",
    "import random  # Import random module\n",
    "from psychopy.sound import Sound\n",
    "import psychtoolbox as ptb\n",
    "\n",
    "# Define lists of words (modify these with your desired words)\n",
    "noun_list = [\"Arielle\", \"Anika\", \"Jacob\", \"Roni\"]\n",
    "adj_list = [\"tired\", \"awake\", \"happy\", \"sad\"]\n",
    "verb_list = [\"waves\", \"cries\", \"stands\", \"lies\"]\n",
    "\n",
    "# Initialize PsychoPy window\n",
    "win = visual.Window(fullscr=False, allowGUI=False)\n",
    "\n",
    "# Initialize text stimulus\n",
    "text_stim = visual.TextStim(win, text=\"\")\n",
    "\n",
    "# Initialize Google Text-to-Speech engine\n",
    "tts = gTTS(text=\" \", lang=\"en\")\n",
    "\n",
    "def generate_sentence():\n",
    "    \"\"\"Generates a random sentence by picking one word from each dictionary.\"\"\"\n",
    "    noun = random.choice(noun_list)\n",
    "    adj = random.choice(adj_list)\n",
    "    verb = random.choice(verb_list)\n",
    "    return f\"{noun} is {adj} and {verb}\"\n",
    "\n",
    "\n",
    "# Sentence counter so window/program will close out automatically\n",
    "sentence_count = 0\n",
    "\n",
    "while sentence_count <= 20:  # Continue looping until 20 sentences are generated\n",
    "    # Generate random sentence\n",
    "    sentence = generate_sentence()\n",
    "\n",
    "    # Update text stimulus and TTS object\n",
    "    text_stim.text = sentence\n",
    "    tts.text = sentence\n",
    "    tts.save(\"temp.mp3\")\n",
    "\n",
    "    # Play audio and display text\n",
    "    sentence_sound = sound.Sound(\"temp.mp3\")\n",
    "    now = ptb.GetSecs()\n",
    "    Sound.play(sentence_sound, when=now)\n",
    "    \n",
    "    text_stim.draw()\n",
    "    win.flip()\n",
    "\n",
    "    # Wait for 5 seconds\n",
    "    core.wait(5)\n",
    "\n",
    "    # Increment the sentence count\n",
    "    sentence_count += 1\n",
    "\n",
    "# Close window\n",
    "win.close()\n",
    "os.remove(\"temp.mp3\")  # Corrected file name and added quotes around file name\n"
   ]
  },
  {
   "cell_type": "code",
   "execution_count": null,
   "id": "7e72a61d",
   "metadata": {},
   "outputs": [],
   "source": []
  },
  {
   "cell_type": "code",
   "execution_count": 21,
   "id": "1171ee56-8f87-4a7e-b10a-78039fd943ba",
   "metadata": {},
   "outputs": [
    {
     "ename": "NameError",
     "evalue": "name 'gTTS' is not defined",
     "output_type": "error",
     "traceback": [
      "\u001b[0;31m---------------------------------------------------------------------------\u001b[0m",
      "\u001b[0;31mNameError\u001b[0m                                 Traceback (most recent call last)",
      "Cell \u001b[0;32mIn[21], line 1\u001b[0m\n\u001b[0;32m----> 1\u001b[0m \u001b[43mgenerate_and_store_sentences\u001b[49m\u001b[43m(\u001b[49m\u001b[43mnum_sentences\u001b[49m\u001b[38;5;241;43m=\u001b[39;49m\u001b[38;5;241;43m20\u001b[39;49m\u001b[43m,\u001b[49m\u001b[43m \u001b[49m\u001b[43mpatient_id\u001b[49m\u001b[38;5;241;43m=\u001b[39;49m\u001b[38;5;124;43m\"\u001b[39;49m\u001b[38;5;124;43mpatient123\u001b[39;49m\u001b[38;5;124;43m\"\u001b[39;49m\u001b[43m)\u001b[49m\n",
      "Cell \u001b[0;32mIn[20], line 19\u001b[0m, in \u001b[0;36mgenerate_and_store_sentences\u001b[0;34m(num_sentences, patient_id)\u001b[0m\n\u001b[1;32m     16\u001b[0m text_stim \u001b[38;5;241m=\u001b[39m visual\u001b[38;5;241m.\u001b[39mTextStim(win, text\u001b[38;5;241m=\u001b[39m\u001b[38;5;124m\"\u001b[39m\u001b[38;5;124m\"\u001b[39m)\n\u001b[1;32m     18\u001b[0m \u001b[38;5;66;03m# Initialize Google Text-to-Speech engine\u001b[39;00m\n\u001b[0;32m---> 19\u001b[0m tts \u001b[38;5;241m=\u001b[39m \u001b[43mgTTS\u001b[49m(text\u001b[38;5;241m=\u001b[39m\u001b[38;5;124m\"\u001b[39m\u001b[38;5;124m \u001b[39m\u001b[38;5;124m\"\u001b[39m, lang\u001b[38;5;241m=\u001b[39m\u001b[38;5;124m\"\u001b[39m\u001b[38;5;124men\u001b[39m\u001b[38;5;124m\"\u001b[39m)\n\u001b[1;32m     21\u001b[0m \u001b[38;5;66;03m# Initialize an empty dictionary\u001b[39;00m\n\u001b[1;32m     22\u001b[0m my_sentences_dict \u001b[38;5;241m=\u001b[39m {}\n",
      "\u001b[0;31mNameError\u001b[0m: name 'gTTS' is not defined"
     ]
    }
   ],
   "source": [
    "# Define lists of words (modify these with your desired words)\n",
    "noun_list = [\"Arielle\", \"Anika\", \"Jacob\", \"Roni\"]\n",
    "adj_list = [\"tired\", \"awake\", \"happy\", \"sad\"]\n",
    "verb_list = [\"waves\", \"cries\", \"stands\", \"lies\"]\n",
    "\n",
    "# Initialize PsychoPy window\n",
    "win = visual.Window(fullscr=False, allowGUI=False)\n",
    "\n",
    "# Initialize text stimulus\n",
    "text_stim = visual.TextStim(win, text=\"\")\n",
    "\n",
    "# Initialize Google Text-to-Speech engine\n",
    "tts = gTTS(text=\" \", lang=\"en\")\n",
    "\n",
    "def generate_sentence():\n",
    "    \"\"\"Generates a random sentence by picking one word from each dictionary.\"\"\"\n",
    "    noun = random.choice(noun_list)\n",
    "    adj = random.choice(adj_list)\n",
    "    verb = random.choice(verb_list)\n",
    "    return f\"{noun} is {adj} and {verb}\"\n",
    "\n",
    "\n",
    "# Sentence counter so window/program will close out automatically\n",
    "sentence_count = 0\n",
    "\n",
    "while sentence_count <= 20:  # Continue looping until 20 sentences are generated\n",
    "    # Generate random sentence\n",
    "    sentence = generate_sentence()\n",
    "\n",
    "    # Update text stimulus and TTS object\n",
    "    text_stim.text = sentence\n",
    "    tts.text = sentence\n",
    "    tts.save(\"temp.mp3\")\n",
    "\n",
    "    # Play audio and display text\n",
    "    sentence_sound = sound.Sound(\"temp.mp3\")\n",
    "    now = ptb.GetSecs()\n",
    "    Sound.play(sentence_sound, when=now)\n",
    "    \n",
    "    text_stim.draw()\n",
    "    win.flip()\n",
    "\n",
    "    # Wait for 5 seconds\n",
    "    core.wait(5)\n",
    "\n",
    "    # Increment the sentence count\n",
    "    sentence_count += 1\n",
    "\n",
    "# Close window\n",
    "win.close()\n",
    "os.remove(\"temp.mp3\")  # Corrected file name and added quotes around file name"
   ]
  },
  {
   "cell_type": "code",
   "execution_count": 1,
   "id": "c8776d40",
   "metadata": {
    "id": "c8776d40"
   },
   "outputs": [
    {
     "data": {
      "text/plain": [
       "'\\n# Example usage:\\npatient_id, current_date, sentences_dict = generate_and_store_sentences(num_sentences=10, patient_id=\"patient456\")\\n\\n# Pass the values to the second function\\nupdate_sentences_dict(sentences_dict, patient_id, current_date, \"timestamp\", \"Example sentence\")\\n'"
      ]
     },
     "execution_count": 1,
     "metadata": {},
     "output_type": "execute_result"
    }
   ],
   "source": [
    "import random\n",
    "from psychopy import core, sound, visual\n",
    "import time\n",
    "from gtts import gTTS\n",
    "import os\n",
    "from psychopy.sound import Sound\n",
    "import psychtoolbox as ptb\n",
    "\n",
    "\n",
    "def generate_and_store_sentences(num_sentences=20, patient_id=\"patient123\"):\n",
    "    # Define lists of words (modify these with your desired words)\n",
    "    noun_list = [\"Arielle\", \"Anika\", \"Jacob\", \"Roni\"]\n",
    "    adj_list = [\"tired\", \"awake\", \"happy\", \"sad\"]\n",
    "    verb_list = [\"waves\", \"cries\", \"stands\", \"lies\"]\n",
    "\n",
    "    # Initialize PsychoPy window\n",
    "    win = visual.Window(fullscr=False, allowGUI=False)\n",
    "\n",
    "    # Initialize text stimulus\n",
    "    text_stim = visual.TextStim(win, text=\"\")\n",
    "\n",
    "    # Initialize Google Text-to-Speech engine\n",
    "    tts = gTTS(text=\" \", lang=\"en\")\n",
    "    \n",
    "    # Initialize an empty dictionary\n",
    "    my_sentences_dict = {}\n",
    "\n",
    "    # Sentence counter so window/program will close out automatically\n",
    "    sentence_count = 0\n",
    "\n",
    "    current_date = time.strftime(\"%Y-%m-%d\")\n",
    "\n",
    "    while sentence_count <= num_sentences:\n",
    "        # Generate random sentence, date, and timestamp\n",
    "        noun = random.choice(noun_list)\n",
    "        adj = random.choice(adj_list)\n",
    "        verb = random.choice(verb_list)\n",
    "        sentence = f\"{noun} is {adj} and {verb}\"\n",
    "\n",
    "        # Capture current date and timestamp\n",
    "        current_timestamp = time.time()\n",
    "\n",
    "        # Update the dictionary with patient data\n",
    "        my_sentences_dict[current_timestamp] = sentence\n",
    "\n",
    "        # Update text stimulus and TTS object\n",
    "        text_stim.text = sentence\n",
    "        tts.text = sentence\n",
    "        tts.save(\"temp.mp3\")\n",
    "\n",
    "        # Play audio and display text\n",
    "        sentence_sound = sound.Sound(\"temp.mp3\")\n",
    "        now = ptb.GetSecs()\n",
    "        Sound.play(sentence_sound, when=now)\n",
    "    \n",
    "        text_stim.draw()\n",
    "        win.flip()\n",
    "\n",
    "        # Wait for 5 seconds\n",
    "        core.wait(5)\n",
    "\n",
    "        # Increment the sentence count\n",
    "        sentence_count += 1\n",
    "        os.remove(\"temp.mp3\")  # Corrected file name and added quotes around file name\n",
    "\n",
    "    # Close window\n",
    "    win.close()\n",
    "\n",
    "    # Return patient ID, current date, and the updated dictionary\n",
    "    return patient_id, current_date, my_sentences_dict\n",
    "\"\"\"\n",
    "# Example usage:\n",
    "patient_id, current_date, sentences_dict = generate_and_store_sentences(num_sentences=10, patient_id=\"patient456\")\n",
    "\n",
    "# Pass the values to the second function\n",
    "update_sentences_dict(sentences_dict, patient_id, current_date, \"timestamp\", \"Example sentence\")\n",
    "\"\"\""
   ]
  },
  {
   "cell_type": "code",
   "execution_count": null,
   "id": "818efed1-6752-45fb-aadd-61ccaffc91f3",
   "metadata": {},
   "outputs": [
    {
     "name": "stdout",
     "output_type": "stream",
     "text": [
      "||PaMacCore (AUHAL)|| Error on line 520: err=''what'', msg=Unspecified Audio Hardware Error\n",
      "||PaMacCore (AUHAL)|| Error on line 520: err=''what'', msg=Unspecified Audio Hardware Error\n"
     ]
    }
   ],
   "source": [
    "generate_and_store_sentences(num_sentences=20, patient_id=\"patient123\")"
   ]
  },
  {
   "cell_type": "code",
   "execution_count": 2,
   "id": "cedc39be-dd05-40e5-91ff-8094327f574f",
   "metadata": {},
   "outputs": [],
   "source": [
    "def update_patient_dict(patient_id, current_date, sentences_dict):\n",
    "    \"\"\"\n",
    "    Update the global patient dictionary with sentences generated by the first function.\n",
    "\n",
    "    Parameters:\n",
    "    - patient_id (str): The ID of the patient.\n",
    "    - current_date (str): The current date.\n",
    "    - sentences_dict (dict): The sentences generated by the first function.\n",
    "\n",
    "    Returns:\n",
    "    None\n",
    "    \"\"\"\n",
    "    global patient_dict  # Assuming patient_dict is the global dictionary\n",
    "\n",
    "    # Check if patient_id is already in the dictionary\n",
    "    if patient_id not in patient_dict:\n",
    "        patient_dict[patient_id] = {}\n",
    "\n",
    "    # Check if current_date is already in the inner dictionary\n",
    "    if current_date not in patient_dict[patient_id]:\n",
    "        patient_dict[patient_id][current_date] = {}\n",
    "    else:\n",
    "        print(\"Patient has already been administered stimulus protocol today\")\n",
    "        return\n",
    "\n",
    "    # Update the global patient dictionary with sentences_dict\n",
    "    patient_dict[patient_id][current_date].update(sentences_dict)\n",
    "\n"
   ]
  },
  {
   "cell_type": "code",
   "execution_count": 3,
   "id": "d1a33e21-18f2-4979-833c-4439be7d3929",
   "metadata": {},
   "outputs": [
    {
     "name": "stdout",
     "output_type": "stream",
     "text": [
      "||PaMacCore (AUHAL)|| Error on line 520: err=''what'', msg=Unspecified Audio Hardware Error\n",
      "||PaMacCore (AUHAL)|| Error on line 520: err=''what'', msg=Unspecified Audio Hardware Error\n",
      "13.9359 \tWARNING \tMonitor specification not found. Creating a temporary one...\n",
      "15.1827 \tWARNING \tCouldn't measure a consistent frame rate!\n",
      "  - Is your graphics card set to sync to vertical blank?\n",
      "  - Are you running other processes on your computer?\n",
      "\n",
      "16.2125 \tWARNING \tt of last frame was 1029.95ms (=1/0)\n",
      "21.6379 \tWARNING \tt of last frame was 5425.43ms (=1/0)\n",
      "26.9136 \tWARNING \tt of last frame was 5275.70ms (=1/0)\n",
      "32.2180 \tWARNING \tt of last frame was 5304.41ms (=1/0)\n",
      "37.4964 \tWARNING \tMultiple dropped frames have occurred - I'll stop bothering you about them!\n"
     ]
    },
    {
     "ename": "TypeError",
     "evalue": "update_patient_dict() missing 2 required positional arguments: 'current_date' and 'sentences_dict'",
     "output_type": "error",
     "traceback": [
      "\u001b[0;31m---------------------------------------------------------------------------\u001b[0m",
      "\u001b[0;31mTypeError\u001b[0m                                 Traceback (most recent call last)",
      "Cell \u001b[0;32mIn[3], line 3\u001b[0m\n\u001b[1;32m      1\u001b[0m patient_dict \u001b[38;5;241m=\u001b[39m {}\n\u001b[0;32m----> 3\u001b[0m \u001b[43mupdate_patient_dict\u001b[49m\u001b[43m(\u001b[49m\u001b[43mgenerate_and_store_sentences\u001b[49m\u001b[43m(\u001b[49m\u001b[38;5;241;43m4\u001b[39;49m\u001b[43m,\u001b[49m\u001b[43m \u001b[49m\u001b[38;5;124;43m\"\u001b[39;49m\u001b[38;5;124;43mpatient123\u001b[39;49m\u001b[38;5;124;43m\"\u001b[39;49m\u001b[43m)\u001b[49m\u001b[43m)\u001b[49m\n",
      "\u001b[0;31mTypeError\u001b[0m: update_patient_dict() missing 2 required positional arguments: 'current_date' and 'sentences_dict'"
     ]
    }
   ],
   "source": [
    "patient_dict = {}\n",
    "\n",
    "update_patient_dict(generate_and_store_sentences(4, \"patient123\"))"
   ]
  }
 ],
 "metadata": {
  "colab": {
   "include_colab_link": true,
   "provenance": []
  },
  "kernelspec": {
   "display_name": "Python 3 (ipykernel)",
   "language": "python",
   "name": "python3"
  },
  "language_info": {
   "codemirror_mode": {
    "name": "ipython",
    "version": 3
   },
   "file_extension": ".py",
   "mimetype": "text/x-python",
   "name": "python",
   "nbconvert_exporter": "python",
   "pygments_lexer": "ipython3",
   "version": "3.9.18"
  }
 },
 "nbformat": 4,
 "nbformat_minor": 5
}
