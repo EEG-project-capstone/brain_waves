{
 "cells": [
  {
   "cell_type": "code",
   "execution_count": 1,
   "id": "bd8cd6a5",
   "metadata": {},
   "outputs": [
    {
     "name": "stderr",
     "output_type": "stream",
     "text": [
      "2024-02-26 17:20:12.898 python[5394:229803] Warning: Expected min height of view: (<NSPopoverTouchBarItemButton: 0x7fa469131830>) to be less than or equal to 30 but got a height of 32.000000. This error will be logged once per view in violation.\n",
      "2024-02-26 17:20:12.898 python[5394:229803] Warning: Expected min height of view: (<NSButton: 0x7fa4807cf140>) to be less than or equal to 30 but got a height of 32.000000. This error will be logged once per view in violation.\n",
      "2024-02-26 17:20:12.900 python[5394:229803] Warning: Expected min height of view: (<NSPopoverTouchBarItemButton: 0x7fa4807cf980>) to be less than or equal to 30 but got a height of 32.000000. This error will be logged once per view in violation.\n",
      "2024-02-26 17:20:12.901 python[5394:229803] Warning: Expected min height of view: (<NSPopoverTouchBarItemButton: 0x7fa4807d1c30>) to be less than or equal to 30 but got a height of 32.000000. This error will be logged once per view in violation.\n"
     ]
    },
    {
     "ename": "AssertionError",
     "evalue": "No text to speak",
     "output_type": "error",
     "traceback": [
      "\u001b[0;31m---------------------------------------------------------------------------\u001b[0m",
      "\u001b[0;31mAssertionError\u001b[0m                            Traceback (most recent call last)",
      "Cell \u001b[0;32mIn[1], line 18\u001b[0m\n\u001b[1;32m     15\u001b[0m text_stim \u001b[38;5;241m=\u001b[39m visual\u001b[38;5;241m.\u001b[39mTextStim(win, text\u001b[38;5;241m=\u001b[39m\u001b[38;5;124m\"\u001b[39m\u001b[38;5;124m\"\u001b[39m, height\u001b[38;5;241m=\u001b[39m\u001b[38;5;241m30\u001b[39m)\n\u001b[1;32m     17\u001b[0m \u001b[38;5;66;03m# Initialize Google Text-to-Speech engine\u001b[39;00m\n\u001b[0;32m---> 18\u001b[0m tts \u001b[38;5;241m=\u001b[39m \u001b[43mgTTS\u001b[49m\u001b[43m(\u001b[49m\u001b[43mtext\u001b[49m\u001b[38;5;241;43m=\u001b[39;49m\u001b[38;5;124;43m\"\u001b[39;49m\u001b[38;5;124;43m\"\u001b[39;49m\u001b[43m,\u001b[49m\u001b[43m \u001b[49m\u001b[43mlang\u001b[49m\u001b[38;5;241;43m=\u001b[39;49m\u001b[38;5;124;43m\"\u001b[39;49m\u001b[38;5;124;43men\u001b[39;49m\u001b[38;5;124;43m\"\u001b[39;49m\u001b[43m)\u001b[49m\n\u001b[1;32m     20\u001b[0m \u001b[38;5;28;01mdef\u001b[39;00m \u001b[38;5;21mgenerate_sentence\u001b[39m():\n\u001b[1;32m     21\u001b[0m \u001b[38;5;250m    \u001b[39m\u001b[38;5;124;03m\"\"\"Generates a random sentence by picking one word from each dictionary.\"\"\"\u001b[39;00m\n",
      "File \u001b[0;32m~/miniconda3/lib/python3.9/site-packages/gtts/tts.py:133\u001b[0m, in \u001b[0;36mgTTS.__init__\u001b[0;34m(self, text, tld, lang, slow, lang_check, pre_processor_funcs, tokenizer_func, timeout)\u001b[0m\n\u001b[1;32m    130\u001b[0m     log\u001b[38;5;241m.\u001b[39mdebug(\u001b[38;5;124m\"\u001b[39m\u001b[38;5;132;01m%s\u001b[39;00m\u001b[38;5;124m: \u001b[39m\u001b[38;5;132;01m%s\u001b[39;00m\u001b[38;5;124m\"\u001b[39m, k, v)\n\u001b[1;32m    132\u001b[0m \u001b[38;5;66;03m# Text\u001b[39;00m\n\u001b[0;32m--> 133\u001b[0m \u001b[38;5;28;01massert\u001b[39;00m text, \u001b[38;5;124m\"\u001b[39m\u001b[38;5;124mNo text to speak\u001b[39m\u001b[38;5;124m\"\u001b[39m\n\u001b[1;32m    134\u001b[0m \u001b[38;5;28mself\u001b[39m\u001b[38;5;241m.\u001b[39mtext \u001b[38;5;241m=\u001b[39m text\n\u001b[1;32m    136\u001b[0m \u001b[38;5;66;03m# Translate URL top-level domain\u001b[39;00m\n",
      "\u001b[0;31mAssertionError\u001b[0m: No text to speak"
     ]
    }
   ],
   "source": [
    "from psychopy import core, visual, sound\n",
    "from gtts import gTTS\n",
    "import os\n",
    "import random  # Import random module\n",
    "\n",
    "# Define dictionaries (modify these with your desired words)\n",
    "noun_dict = {\"cat\", \"dog\", \"table\", \"book\"}\n",
    "adj_dict = {\"red\", \"blue\", \"happy\", \"sad\"}\n",
    "verb_dict = {\"jumps\", \"sleeps\", \"stands\", \"lies\"}\n",
    "\n",
    "# Initialize PsychoPy window\n",
    "win = visual.Window(fullscr=False, allowGUI=False)\n",
    "\n",
    "# Initialize text stimulus\n",
    "text_stim = visual.TextStim(win, text=\"\", height=30)\n",
    "\n",
    "# Initialize Google Text-to-Speech engine\n",
    "tts = gTTS(text=\"\", lang=\"en\")\n",
    "\n",
    "def generate_sentence():\n",
    "    \"\"\"Generates a random sentence by picking one word from each dictionary.\"\"\"\n",
    "    noun = random.choice(list(noun_dict))\n",
    "    adj = random.choice(list(adj_dict))\n",
    "    verb = random.choice(list(verb_dict))\n",
    "    return f\"{noun} is {adj} and {verb}\"\n",
    "\n",
    "\n",
    "while True:\n",
    "    # Generate random sentence\n",
    "    sentence = generate_sentence()\n",
    "\n",
    "    # Update text stimulus and TTS object\n",
    "    text_stim.text = sentence\n",
    "    tts.text = sentence\n",
    "    tts.save(\"temp.mp3\")\n",
    "\n",
    "    # Play audio and display text\n",
    "    sound.Sound(\"temp.mp3\").play()\n",
    "    text_stim.draw()\n",
    "    win.flip()\n",
    "\n",
    "    # Wait for 5 seconds\n",
    "    core.wait(5)\n",
    "\n",
    "# Close window\n",
    "win.close()\n",
    "os.remove(\"temp.mp3\")  # Corrected file name and added quotes around file name"
   ]
  },
  {
   "cell_type": "code",
   "execution_count": null,
   "id": "c8776d40",
   "metadata": {},
   "outputs": [],
   "source": []
  }
 ],
 "metadata": {
  "kernelspec": {
   "display_name": "Python 3 (ipykernel)",
   "language": "python",
   "name": "python3"
  },
  "language_info": {
   "codemirror_mode": {
    "name": "ipython",
    "version": 3
   },
   "file_extension": ".py",
   "mimetype": "text/x-python",
   "name": "python",
   "nbconvert_exporter": "python",
   "pygments_lexer": "ipython3",
   "version": "3.9.17"
  }
 },
 "nbformat": 4,
 "nbformat_minor": 5
}
