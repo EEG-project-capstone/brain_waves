{
 "cells": [
  {
   "cell_type": "code",
   "execution_count": 22,
   "id": "a566df35-9e75-48b6-a596-6e09b44e9d43",
   "metadata": {},
   "outputs": [
    {
     "name": "stdout",
     "output_type": "stream",
     "text": [
      "Patient has already been administered stimulus protocol today\n",
      "{'patient123': {'2022-03-01': {'timestamp1': 'Sentence 1'}}}\n"
     ]
    }
   ],
   "source": [
    "def update_sentences_dict(sentences_dict, patient_id, date, timestamp, sentence):\n",
    "    # Check if patient_id is already in the dictionary\n",
    "    if patient_id not in sentences_dict:\n",
    "        sentences_dict[patient_id] = {}\n",
    "    \n",
    "    elif patient_id in sentences_dict:\n",
    "        pass\n",
    "\n",
    "    # Check if date is already in the inner dictionary\n",
    "    if date not in sentences_dict[patient_id]:\n",
    "        sentences_dict[patient_id][date] = {}\n",
    "    \n",
    "    elif date in sentences_dict[patient_id]:\n",
    "        print(\"Patient has already been administered stimulus protocol today\")\n",
    "        return\n",
    "        \n",
    "    # Update the dictionary with the provided values\n",
    "    sentences_dict[patient_id][date][timestamp] = sentence\n",
    "\n",
    "# Example usage:\n",
    "# Initialize an empty dictionary\n",
    "my_sentences_dict = {}\n",
    "\n",
    "# Update the dictionary with key-value pairs\n",
    "update_sentences_dict(my_sentences_dict, \"patient123\", \"2022-03-01\", \"timestamp1\", \"Sentence 1\")\n",
    "update_sentences_dict(my_sentences_dict, \"patient123\", \"2022-03-01\", \"timestamp2\", \"Sentence 5\")\n",
    "\n",
    "# Print the updated dictionary\n",
    "print(my_sentences_dict)"
   ]
  }
 ],
 "metadata": {
  "kernelspec": {
   "display_name": "Python 3 (ipykernel)",
   "language": "python",
   "name": "python3"
  },
  "language_info": {
   "codemirror_mode": {
    "name": "ipython",
    "version": 3
   },
   "file_extension": ".py",
   "mimetype": "text/x-python",
   "name": "python",
   "nbconvert_exporter": "python",
   "pygments_lexer": "ipython3",
   "version": "3.9.18"
  }
 },
 "nbformat": 4,
 "nbformat_minor": 5
}
