{
 "cells": [
  {
   "cell_type": "code",
   "execution_count": 1,
   "id": "59d8dcf2-df0e-4b2b-9578-33b0324bb211",
   "metadata": {},
   "outputs": [
    {
     "ename": "NoSuchDisplayException",
     "evalue": "Cannot connect to \"None\"",
     "output_type": "error",
     "traceback": [
      "\u001b[0;31m---------------------------------------------------------------------------\u001b[0m",
      "\u001b[0;31mNoSuchDisplayException\u001b[0m                    Traceback (most recent call last)",
      "Cell \u001b[0;32mIn[1], line 4\u001b[0m\n\u001b[1;32m      1\u001b[0m \u001b[38;5;28;01mimport\u001b[39;00m \u001b[38;5;21;01munittest\u001b[39;00m\n\u001b[1;32m      3\u001b[0m \u001b[38;5;66;03m#import neccessary packages\u001b[39;00m\n\u001b[0;32m----> 4\u001b[0m \u001b[38;5;28;01mfrom\u001b[39;00m \u001b[38;5;21;01mpsychopy\u001b[39;00m \u001b[38;5;28;01mimport\u001b[39;00m core, visual, sound\n\u001b[1;32m      5\u001b[0m \u001b[38;5;28;01mfrom\u001b[39;00m \u001b[38;5;21;01mgtts\u001b[39;00m \u001b[38;5;28;01mimport\u001b[39;00m gTTS\n\u001b[1;32m      6\u001b[0m \u001b[38;5;28;01mimport\u001b[39;00m \u001b[38;5;21;01mos\u001b[39;00m\n",
      "File \u001b[0;32m/usr/local/lib/python3.10/dist-packages/psychopy/visual/__init__.py:27\u001b[0m\n\u001b[1;32m     24\u001b[0m             \u001b[38;5;28;01mexcept\u001b[39;00m \u001b[38;5;167;01mOSError\u001b[39;00m:\n\u001b[1;32m     25\u001b[0m                 \u001b[38;5;28;01mpass\u001b[39;00m\n\u001b[0;32m---> 27\u001b[0m \u001b[38;5;28;01mfrom\u001b[39;00m \u001b[38;5;21;01mpsychopy\u001b[39;00m \u001b[38;5;28;01mimport\u001b[39;00m event  \u001b[38;5;66;03m# import before visual or\u001b[39;00m\n\u001b[1;32m     28\u001b[0m \u001b[38;5;28;01mfrom\u001b[39;00m \u001b[38;5;21;01mpsychopy\u001b[39;00m\u001b[38;5;21;01m.\u001b[39;00m\u001b[38;5;21;01mvisual\u001b[39;00m \u001b[38;5;28;01mimport\u001b[39;00m filters\n\u001b[1;32m     29\u001b[0m \u001b[38;5;28;01mfrom\u001b[39;00m \u001b[38;5;21;01mpsychopy\u001b[39;00m\u001b[38;5;21;01m.\u001b[39;00m\u001b[38;5;21;01mvisual\u001b[39;00m\u001b[38;5;21;01m.\u001b[39;00m\u001b[38;5;21;01mbackends\u001b[39;00m \u001b[38;5;28;01mimport\u001b[39;00m gamma\n",
      "File \u001b[0;32m/usr/local/lib/python3.10/dist-packages/psychopy/event.py:61\u001b[0m\n\u001b[1;32m     59\u001b[0m         _default_display_ \u001b[38;5;241m=\u001b[39m pyglet\u001b[38;5;241m.\u001b[39mwindow\u001b[38;5;241m.\u001b[39mget_platform()\u001b[38;5;241m.\u001b[39mget_default_display()\n\u001b[1;32m     60\u001b[0m     \u001b[38;5;28;01melse\u001b[39;00m:\n\u001b[0;32m---> 61\u001b[0m         _default_display_ \u001b[38;5;241m=\u001b[39m \u001b[43mpyglet\u001b[49m\u001b[38;5;241;43m.\u001b[39;49m\u001b[43mcanvas\u001b[49m\u001b[38;5;241;43m.\u001b[39;49m\u001b[43mget_display\u001b[49m\u001b[43m(\u001b[49m\u001b[43m)\u001b[49m\n\u001b[1;32m     64\u001b[0m \u001b[38;5;28;01mimport\u001b[39;00m \u001b[38;5;21;01mpsychopy\u001b[39;00m\u001b[38;5;21;01m.\u001b[39;00m\u001b[38;5;21;01mcore\u001b[39;00m\n\u001b[1;32m     65\u001b[0m \u001b[38;5;28;01mfrom\u001b[39;00m \u001b[38;5;21;01mpsychopy\u001b[39;00m\u001b[38;5;21;01m.\u001b[39;00m\u001b[38;5;21;01mtools\u001b[39;00m\u001b[38;5;21;01m.\u001b[39;00m\u001b[38;5;21;01mmonitorunittools\u001b[39;00m \u001b[38;5;28;01mimport\u001b[39;00m cm2pix, deg2pix, pix2cm, pix2deg\n",
      "File \u001b[0;32m/usr/local/lib/python3.10/dist-packages/pyglet/canvas/__init__.py:94\u001b[0m, in \u001b[0;36mget_display\u001b[0;34m()\u001b[0m\n\u001b[1;32m     91\u001b[0m     \u001b[38;5;28;01mreturn\u001b[39;00m display\n\u001b[1;32m     93\u001b[0m \u001b[38;5;66;03m# Otherwise, create a new display and return it.\u001b[39;00m\n\u001b[0;32m---> 94\u001b[0m \u001b[38;5;28;01mreturn\u001b[39;00m \u001b[43mDisplay\u001b[49m\u001b[43m(\u001b[49m\u001b[43m)\u001b[49m\n",
      "File \u001b[0;32m/usr/local/lib/python3.10/dist-packages/pyglet/canvas/xlib.py:123\u001b[0m, in \u001b[0;36mXlibDisplay.__init__\u001b[0;34m(self, name, x_screen)\u001b[0m\n\u001b[1;32m    121\u001b[0m \u001b[38;5;28mself\u001b[39m\u001b[38;5;241m.\u001b[39m_display \u001b[38;5;241m=\u001b[39m xlib\u001b[38;5;241m.\u001b[39mXOpenDisplay(name)\n\u001b[1;32m    122\u001b[0m \u001b[38;5;28;01mif\u001b[39;00m \u001b[38;5;129;01mnot\u001b[39;00m \u001b[38;5;28mself\u001b[39m\u001b[38;5;241m.\u001b[39m_display:\n\u001b[0;32m--> 123\u001b[0m     \u001b[38;5;28;01mraise\u001b[39;00m NoSuchDisplayException(\u001b[38;5;124m'\u001b[39m\u001b[38;5;124mCannot connect to \u001b[39m\u001b[38;5;124m\"\u001b[39m\u001b[38;5;132;01m%s\u001b[39;00m\u001b[38;5;124m\"\u001b[39m\u001b[38;5;124m'\u001b[39m \u001b[38;5;241m%\u001b[39m name)\n\u001b[1;32m    125\u001b[0m screen_count \u001b[38;5;241m=\u001b[39m xlib\u001b[38;5;241m.\u001b[39mXScreenCount(\u001b[38;5;28mself\u001b[39m\u001b[38;5;241m.\u001b[39m_display)\n\u001b[1;32m    126\u001b[0m \u001b[38;5;28;01mif\u001b[39;00m x_screen \u001b[38;5;241m>\u001b[39m\u001b[38;5;241m=\u001b[39m screen_count:\n",
      "\u001b[0;31mNoSuchDisplayException\u001b[0m: Cannot connect to \"None\""
     ]
    }
   ],
   "source": [
    "import unittest\n",
    "\n",
    "#import neccessary packages\n",
    "from psychopy import core, visual, sound\n",
    "from gtts import gTTS\n",
    "import os\n",
    "import random  # Import random module\n",
    "from psychopy.sound import Sound\n",
    "import psychtoolbox as ptb\n",
    "\n",
    "# Define dictionaries (modify these with your desired words)\n",
    "noun_dict = [\"Arielle\", \"Anika\", \"Jacob\", \"Roni\"]\n",
    "adj_dict = [\"tired\", \"awake\", \"happy\", \"sad\"]\n",
    "verb_dict = [\"waves\", \"cries\", \"stands\", \"lies\"]\n",
    "\n",
    "# Initialize PsychoPy window\n",
    "win = visual.Window(fullscr=False, allowGUI=False)\n",
    "\n",
    "# Initialize text stimulus\n",
    "text_stim = visual.TextStim(win, text=\"\")\n",
    "\n",
    "# Initialize Google Text-to-Speech engine\n",
    "tts = gTTS(text=\" \", lang=\"en\")\n",
    "def generate_sentence():\n",
    "    \"\"\"Generates a random sentence by picking one word from each dictionary.\"\"\"\n",
    "    noun = random.choice(noun_dict)\n",
    "    adj = random.choice(adj_dict)\n",
    "    verb = random.choice(verb_dict)\n",
    "    return f\"{noun} is {adj} and {verb}\"\n",
    "    \n",
    "class TestPatientID(unittest.TestCase):\n",
    "    def test_generate_sentence(self):\n",
    "        with self.assertLogs() as cm:\n",
    "            output = generate_sentence()\n",
    "            self.assertTrue(all(isinstance(item, str) for item in output))\n",
    "\n",
    "if __name__ == '__main__':\n",
    "  unittest.main()"
   ]
  }
 ],
 "metadata": {
  "kernelspec": {
   "display_name": "Python 3 (ipykernel)",
   "language": "python",
   "name": "python3"
  },
  "language_info": {
   "codemirror_mode": {
    "name": "ipython",
    "version": 3
   },
   "file_extension": ".py",
   "mimetype": "text/x-python",
   "name": "python",
   "nbconvert_exporter": "python",
   "pygments_lexer": "ipython3",
   "version": "3.10.12"
  }
 },
 "nbformat": 4,
 "nbformat_minor": 5
}
